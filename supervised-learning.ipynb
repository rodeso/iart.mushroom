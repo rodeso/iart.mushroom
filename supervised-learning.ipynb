{
 "cells": [
  {
   "cell_type": "markdown",
   "id": "9b0e666f",
   "metadata": {},
   "source": [
    "\n",
    "# Binary Prediction of Poisonous Mushrooms \n",
    "## Supervised Learning - IART 2nd Assignment"
   ]
  },
  {
   "cell_type": "markdown",
   "id": "83ef129f",
   "metadata": {},
   "source": [
    "The second practical assignment of IART focuses on the application of Supervised Learning techniques in\n",
    "the context of classification problems. The goal is to develop and evaluate machine learning models capable\n",
    "of learning from labeled data to make accurate predictions regarding a specific target variable (or concept)."
   ]
  },
  {
   "cell_type": "markdown",
   "id": "5a709382",
   "metadata": {},
   "source": [
    "## Machine Learning Problem\n",
    "In this notebook, we will work with a dataset containing information about various mushroom species to predict whether a mushroom is poisonous or edible, in a binary classification problem. Using this dataset, we will explore different classification algorithms and evaluate their performance in predicting the target variable.\n"
   ]
  },
  {
   "cell_type": "markdown",
   "id": "bfc0a9f8",
   "metadata": {},
   "source": [
    "### Methodology\n",
    "Using the previously balanced dataset, we will apply various supervised learning algorithms to build a model that can accurately classify mushrooms as poisonous or edible. The dataset will be split into training and testing sets, and the models will be evaluated based on their performance metrics, including accuracy, precision, recall, and F1-score. We will use Decision Trees, K-Nearest Neighbors (KNN), and Support Vector Machines (SVM) as our classification algorithms. The models will be trained on the training set and evaluated on the testing set to assess their generalization performance. Additionally, we will perform hyperparameter tuning to optimize the models for better accuracy."
   ]
  },
  {
   "cell_type": "markdown",
   "id": "6012a411",
   "metadata": {},
   "source": [
    "### 4. Load Libraries and Dataset"
   ]
  },
  {
   "cell_type": "code",
   "execution_count": null,
   "id": "0ee115a1",
   "metadata": {},
   "outputs": [],
   "source": [
    "# Import the necessary libraries\n",
    "import pandas as pd\n",
    "import numpy as np\n",
    "import matplotlib.pyplot as plt\n",
    "import seaborn as sns\n",
    "from sklearn.utils import resample\n",
    "from sklearn.model_selection import train_test_split\n",
    "from sklearn.metrics import accuracy_score, precision_score, recall_score, f1_score, confusion_matrix, roc_curve, auc\n",
    "\n",
    "# Load the dataset\n",
    "df = pd.read_csv('data/balanced_train.csv')"
   ]
  },
  {
   "cell_type": "markdown",
   "id": "7c636602",
   "metadata": {},
   "source": [
    "### 5. First Model - Decision Tree Classifier\n",
    "Decision Trees are a popular and interpretable classification algorithm that can handle both categorical and numerical data. They work by recursively splitting the data based on feature values to create a tree-like structure, where each leaf node represents a class label."
   ]
  },
  {
   "cell_type": "code",
   "execution_count": null,
   "id": "2a98f91b",
   "metadata": {},
   "outputs": [],
   "source": []
  }
 ],
 "metadata": {
  "language_info": {
   "name": "python"
  }
 },
 "nbformat": 4,
 "nbformat_minor": 5
}
