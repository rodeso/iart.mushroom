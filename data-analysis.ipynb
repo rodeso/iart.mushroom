{
 "cells": [
  {
   "cell_type": "markdown",
   "id": "5257ba64",
   "metadata": {},
   "source": [
    "\n",
    "# Binary Prediction of Poisonous Mushrooms \n",
    "## Supervised Learning - IART 2nd Assignment"
   ]
  },
  {
   "cell_type": "markdown",
   "id": "4a4e63e2",
   "metadata": {},
   "source": [
    "The second practical assignment of IART focuses on the application of Supervised Learning techniques in\n",
    "the context of classification problems. The goal is to develop and evaluate machine learning models capable\n",
    "of learning from labeled data to make accurate predictions regarding a specific target variable (or concept)."
   ]
  },
  {
   "cell_type": "markdown",
   "id": "2d67dd6f",
   "metadata": {},
   "source": [
    "## Data Loading and Preprocessing\n",
    "### 1. Load Libraries\n"
   ]
  },
  {
   "cell_type": "code",
   "execution_count": 12,
   "id": "96fb39eb",
   "metadata": {},
   "outputs": [],
   "source": [
    "# Import necessary libraries\n",
    "import pandas as pd\n",
    "import numpy as np\n",
    "import matplotlib.pyplot as plt\n",
    "import seaborn as sns\n",
    "from sklearn.utils import resample\n",
    "from sklearn.model_selection import train_test_split\n",
    "from sklearn.metrics import accuracy_score, precision_score, recall_score, f1_score, confusion_matrix, roc_curve, auc"
   ]
  },
  {
   "cell_type": "markdown",
   "id": "0df1ead2",
   "metadata": {},
   "source": [
    "### 2. Load The Training Data"
   ]
  },
  {
   "cell_type": "code",
   "execution_count": 3,
   "id": "845fa844",
   "metadata": {},
   "outputs": [
    {
     "name": "stdout",
     "output_type": "stream",
     "text": [
      "Dataset Overview:\n",
      "<class 'pandas.core.frame.DataFrame'>\n",
      "RangeIndex: 3116945 entries, 0 to 3116944\n",
      "Data columns (total 22 columns):\n",
      " #   Column                Dtype  \n",
      "---  ------                -----  \n",
      " 0   id                    int64  \n",
      " 1   class                 object \n",
      " 2   cap-diameter          float64\n",
      " 3   cap-shape             object \n",
      " 4   cap-surface           object \n",
      " 5   cap-color             object \n",
      " 6   does-bruise-or-bleed  object \n",
      " 7   gill-attachment       object \n",
      " 8   gill-spacing          object \n",
      " 9   gill-color            object \n",
      " 10  stem-height           float64\n",
      " 11  stem-width            float64\n",
      " 12  stem-root             object \n",
      " 13  stem-surface          object \n",
      " 14  stem-color            object \n",
      " 15  veil-type             object \n",
      " 16  veil-color            object \n",
      " 17  has-ring              object \n",
      " 18  ring-type             object \n",
      " 19  spore-print-color     object \n",
      " 20  habitat               object \n",
      " 21  season                object \n",
      "dtypes: float64(3), int64(1), object(18)\n",
      "memory usage: 523.2+ MB\n",
      "None\n"
     ]
    }
   ],
   "source": [
    "# Load the dataset\n",
    "train_df = pd.read_csv('data/train.csv')\n",
    "\n",
    "# Display basic information about the dataset\n",
    "print(\"Dataset Overview:\")\n",
    "print(train_df.info())"
   ]
  },
  {
   "cell_type": "code",
   "execution_count": null,
   "id": "c5c5569f",
   "metadata": {},
   "outputs": [
    {
     "name": "stdout",
     "output_type": "stream",
     "text": [
      "\n",
      "Basic Statistical Summary:\n",
      "                 id  cap-diameter   stem-height    stem-width\n",
      "count  3.116945e+06  3.116941e+06  3.116945e+06  3.116945e+06\n",
      "mean   1.558472e+06  6.309848e+00  6.348333e+00  1.115379e+01\n",
      "std    8.997847e+05  4.657931e+00  2.699755e+00  8.095477e+00\n",
      "min    0.000000e+00  3.000000e-02  0.000000e+00  0.000000e+00\n",
      "25%    7.792360e+05  3.320000e+00  4.670000e+00  4.970000e+00\n",
      "50%    1.558472e+06  5.750000e+00  5.880000e+00  9.650000e+00\n",
      "75%    2.337708e+06  8.240000e+00  7.410000e+00  1.563000e+01\n",
      "max    3.116944e+06  8.067000e+01  8.872000e+01  1.029000e+02\n"
     ]
    }
   ],
   "source": [
    "# Describe the dataset\n",
    "print(\"\\nBasic Statistical Summary:\")\n",
    "print(train_df.describe())"
   ]
  },
  {
   "cell_type": "code",
   "execution_count": 32,
   "id": "999b77ee",
   "metadata": {},
   "outputs": [
    {
     "name": "stdout",
     "output_type": "stream",
     "text": [
      "\n",
      "Missing Values:\n",
      "cap-diameter                  4\n",
      "cap-shape                    40\n",
      "cap-surface              671023\n",
      "cap-color                    12\n",
      "does-bruise-or-bleed          8\n",
      "gill-attachment          523936\n",
      "gill-spacing            1258435\n",
      "gill-color                   57\n",
      "stem-root               2757023\n",
      "stem-surface            1980861\n",
      "stem-color                   38\n",
      "veil-type               2957493\n",
      "veil-color              2740947\n",
      "has-ring                     24\n",
      "ring-type                128880\n",
      "spore-print-color       2849682\n",
      "habitat                      45\n"
     ]
    }
   ],
   "source": [
    "# Check for missing values\n",
    "print(\"\\nMissing Values:\")\n",
    "missing_values=train_df.isnull().sum()\n",
    "print(missing_values[missing_values > 0].to_string())"
   ]
  },
  {
   "cell_type": "code",
   "execution_count": 29,
   "id": "c04058ce",
   "metadata": {},
   "outputs": [
    {
     "name": "stdout",
     "output_type": "stream",
     "text": [
      "stem-root            88.45\n",
      "veil-type            94.88\n",
      "veil-color           87.94\n",
      "spore-print-color    91.43\n"
     ]
    }
   ],
   "source": [
    "missing_percentage = (train_df.isnull().sum() / len(train_df)) * 100\n",
    "# Display only columns with missing values\n",
    "missing_percentage = missing_percentage[missing_percentage > 80]\n",
    "print(missing_percentage.round(2).to_string())"
   ]
  },
  {
   "cell_type": "code",
   "execution_count": null,
   "id": "9b0175d1",
   "metadata": {},
   "outputs": [
    {
     "name": "stdout",
     "output_type": "stream",
     "text": [
      "\n",
      "Target Variable Distribution:\n",
      "class\n",
      "p    0.547137\n",
      "e    0.452863\n"
     ]
    }
   ],
   "source": [
    "# Determine the balance of the target variable\n",
    "print(\"\\nTarget Variable Distribution:\")\n",
    "print(train_df['class'].value_counts(normalize=True).to_string())"
   ]
  },
  {
   "cell_type": "markdown",
   "id": "bee0df4e",
   "metadata": {},
   "source": [
    "Here we learn about the dataset and its features. The dataset is a collection of mushroom samples, each with 22 features that describe various characteristics of the mushrooms. The target variable is whether the mushroom is edible or poisonous. The dataset contains 3116945 entries. The features include attributes such as cap shape, cap color, gill attachment, and spore print color. The target variable is binary, indicating whether the mushroom is edible (e) or poisonous (p). The dataset is imbalanced, with a higher number of poisonous mushrooms compared to edible ones. The goal is to build a machine learning model that can accurately classify mushrooms as edible or poisonous based on their features."
   ]
  },
  {
   "cell_type": "markdown",
   "id": "a7e1e4c5",
   "metadata": {},
   "source": [
    "### 3. Data Cleaning\n",
    "\n",
    "This section focuses on cleaning the dataset by removing any unnecessary columns and handling missing values, as well as removing excess rows and balancing the dataset. The dataset is cleaned to ensure that it is suitable for analysis and modeling. The cleaned dataset is then saved to a CSV file for further use. "
   ]
  },
  {
   "cell_type": "markdown",
   "id": "8f703a65",
   "metadata": {},
   "source": []
  },
  {
   "cell_type": "markdown",
   "id": "a3dca07a",
   "metadata": {},
   "source": [
    "#### 3.1 Remove Unnecessary Columns and Fill Missing Values"
   ]
  },
  {
   "cell_type": "code",
   "execution_count": 38,
   "id": "8a8acb89",
   "metadata": {},
   "outputs": [
    {
     "name": "stdout",
     "output_type": "stream",
     "text": [
      "\n",
      "Missing Values:\n",
      "cap-surface           670948\n",
      "gill-attachment       523876\n",
      "gill-spacing         1258317\n",
      "stem-root            2756822\n",
      "stem-surface         1980676\n",
      "veil-type            2957273\n",
      "veil-color           2740741\n",
      "ring-type             128850\n",
      "spore-print-color    2849483\n",
      "\n",
      "Cleaned DataFrame Shape: (3116717, 22)\n"
     ]
    }
   ],
   "source": [
    "# Drop rows with missing values in specific columns\n",
    "clean_df = train_df.dropna(subset=['cap-diameter', 'cap-shape', 'cap-color', 'does-bruise-or-bleed', 'gill-color', 'stem-color', 'has-ring', 'habitat'])\n",
    "\n",
    "print(\"\\nMissing Values:\")\n",
    "missing_values=clean_df.isnull().sum()\n",
    "print(missing_values[missing_values > 0].to_string())\n",
    "print(\"\\nCleaned DataFrame Shape:\", clean_df.shape)"
   ]
  },
  {
   "cell_type": "code",
   "execution_count": 39,
   "id": "84c151a7",
   "metadata": {},
   "outputs": [
    {
     "name": "stdout",
     "output_type": "stream",
     "text": [
      "\n",
      "Missing Values:\n",
      "cap-surface         670948\n",
      "gill-attachment     523876\n",
      "gill-spacing       1258317\n",
      "stem-surface       1980676\n",
      "ring-type           128850\n",
      "\n",
      "Cleaned DataFrame Shape: (3116717, 18)\n",
      "\n",
      "Cleaned DataFrame Shape after dropping columns with >80% missing values: (3116717, 18)\n"
     ]
    }
   ],
   "source": [
    "# Drop columns with more than 80% missing values\n",
    "clean_df = clean_df.drop(columns=missing_percentage.index)\n",
    "print(\"\\nMissing Values:\")\n",
    "missing_values=clean_df.isnull().sum()\n",
    "print(missing_values[missing_values > 0].to_string())\n",
    "print(\"\\nCleaned DataFrame Shape:\", clean_df.shape)\n",
    "print(\"\\nCleaned DataFrame Shape after dropping columns with >80% missing values:\", clean_df.shape)"
   ]
  },
  {
   "cell_type": "code",
   "execution_count": null,
   "id": "535f2abd",
   "metadata": {},
   "outputs": [],
   "source": [
    "# Fill the rest with \"unknown\"\n",
    "categorical_cols = clean_df.select_dtypes(include=['object']).columns\n",
    "clean_df[categorical_cols]  = clean_df[categorical_cols].fillna('unknown')\n",
    "print(\"\\nMissing Values:\")\n",
    "missing_values=clean_df.isnull().sum()"
   ]
  },
  {
   "cell_type": "markdown",
   "id": "019ab84a",
   "metadata": {},
   "source": [
    "#### 3.2 Balancing the Dataset "
   ]
  },
  {
   "cell_type": "code",
   "execution_count": 10,
   "id": "79df97ed",
   "metadata": {},
   "outputs": [
    {
     "data": {
      "image/png": "[encoded data removed]",
      "text/plain": [
       "<Figure size 800x500 with 1 Axes>"
      ]
     },
     "metadata": {},
     "output_type": "display_data"
    }
   ],
   "source": [
    "## Data Exploration and Visualization\n",
    "# Visualize the distribution of the target variable\n",
    "plt.figure(figsize=(8, 5))\n",
    "sns.countplot(x='class', data=train_df)\n",
    "plt.title('Distribution of Target Variable')\n",
    "plt.xlabel('Class')\n",
    "plt.ylabel('Count')\n",
    "plt.show()\n"
   ]
  },
  {
   "cell_type": "code",
   "execution_count": 15,
   "id": "dcb57912",
   "metadata": {},
   "outputs": [
    {
     "name": "stdout",
     "output_type": "stream",
     "text": [
      "Balanced Dataset Distribution:\n",
      "class\n",
      "e    0.5\n",
      "p    0.5\n"
     ]
    }
   ],
   "source": [
    "# Separate majority and minority classes\n",
    "majority_class = train_df[train_df['class'] == 'p']\n",
    "minority_class = train_df[train_df['class'] == 'e']\n",
    "\n",
    "# Downsample majority class\n",
    "majority_downsampled = resample(majority_class,\n",
    "                                replace=False,  # sample without replacement\n",
    "                                n_samples=len(minority_class),  # match minority class size\n",
    "                                random_state=42)\n",
    "\n",
    "# Combine minority class with downsampled majority class\n",
    "balanced_df = pd.concat([minority_class, majority_downsampled])\n",
    "\n",
    "# Shuffle the dataset\n",
    "balanced_df = balanced_df.sample(frac=1, random_state=42).reset_index(drop=True)\n",
    "\n",
    "print(\"Balanced Dataset Distribution:\")\n",
    "print(balanced_df['class'].value_counts(normalize=True).to_string())"
   ]
  },
  {
   "cell_type": "code",
   "execution_count": 16,
   "id": "c8bcd3b1",
   "metadata": {},
   "outputs": [
    {
     "data": {
      "image/png": "[encoded data removed]",
      "text/plain": [
       "<Figure size 800x500 with 1 Axes>"
      ]
     },
     "metadata": {},
     "output_type": "display_data"
    }
   ],
   "source": [
    "## Data Exploration and Visualization\n",
    "# Visualize the distribution of the target variable\n",
    "plt.figure(figsize=(8, 5))\n",
    "sns.countplot(x='class', data=balanced_df)\n",
    "plt.title('Distribution of Target Variable')\n",
    "plt.xlabel('Class')\n",
    "plt.ylabel('Count')\n",
    "plt.show()"
   ]
  },
  {
   "cell_type": "markdown",
   "id": "2203e59e",
   "metadata": {},
   "source": [
    "Now we have the balanced_df, which is a balanced version of the original dataset. The balancing process ensures that the number of samples for each class (edible and poisonous) is equal, which helps to improve the performance of machine learning models. We will save this balanced dataset to a CSV file for further analysis and modeling. The balanced dataset will be used to train and evaluate machine learning models, allowing us to assess their performance in classifying mushrooms as edible or poisonous. "
   ]
  },
  {
   "cell_type": "code",
   "execution_count": 20,
   "id": "638f3a10",
   "metadata": {},
   "outputs": [],
   "source": [
    "balanced_df.to_csv('data/balanced_train.csv', index=False)"
   ]
  }
 ],
 "metadata": {
  "kernelspec": {
   "display_name": "ai",
   "language": "python",
   "name": "python3"
  },
  "language_info": {
   "codemirror_mode": {
    "name": "ipython",
    "version": 3
   },
   "file_extension": ".py",
   "mimetype": "text/x-python",
   "name": "python",
   "nbconvert_exporter": "python",
   "pygments_lexer": "ipython3",
   "version": "3.13.2"
  }
 },
 "nbformat": 4,
 "nbformat_minor": 5
}
