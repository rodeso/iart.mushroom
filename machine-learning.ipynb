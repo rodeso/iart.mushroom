{
 "cells": [
  {
   "cell_type": "markdown",
   "id": "9b0e666f",
   "metadata": {},
   "source": [
    "\n",
    "# Binary Prediction of Poisonous Mushrooms \n",
    "## Supervised Learning - IART 2nd Assignment"
   ]
  },
  {
   "cell_type": "markdown",
   "id": "83ef129f",
   "metadata": {},
   "source": [
    "The second practical assignment of IART focuses on the application of Supervised Learning techniques in\n",
    "the context of classification problems. The goal is to develop and evaluate machine learning models capable\n",
    "of learning from labeled data to make accurate predictions regarding a specific target variable (or concept)."
   ]
  },
  {
   "cell_type": "markdown",
   "id": "5a709382",
   "metadata": {},
   "source": [
    "## Machine Learning Problem\n",
    "### \n"
   ]
  }
 ],
 "metadata": {
  "language_info": {
   "name": "python"
  }
 },
 "nbformat": 4,
 "nbformat_minor": 5
}
