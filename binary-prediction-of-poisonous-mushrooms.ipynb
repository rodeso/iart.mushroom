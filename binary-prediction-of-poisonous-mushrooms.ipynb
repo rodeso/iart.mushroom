{
 "cells": [
  {
   "cell_type": "code",
   "execution_count": 1,
   "id": "cdaa2f46",
   "metadata": {
    "execution": {
     "iopub.execute_input": "2025-04-06T03:24:54.116698Z",
     "iopub.status.busy": "2025-04-06T03:24:54.116197Z",
     "iopub.status.idle": "2025-04-06T03:24:57.477130Z",
     "shell.execute_reply": "2025-04-06T03:24:57.475947Z"
    },
    "papermill": {
     "duration": 3.371891,
     "end_time": "2025-04-06T03:24:57.479174",
     "exception": false,
     "start_time": "2025-04-06T03:24:54.107283",
     "status": "completed"
    },
    "tags": []
   },
   "outputs": [
    {
     "ename": "ModuleNotFoundError",
     "evalue": "No module named 'xgboost'",
     "output_type": "error",
     "traceback": [
      "\u001b[0;31m---------------------------------------------------------------------------\u001b[0m",
      "\u001b[0;31mModuleNotFoundError\u001b[0m                       Traceback (most recent call last)",
      "Cell \u001b[0;32mIn[1], line 5\u001b[0m\n\u001b[1;32m      3\u001b[0m \u001b[38;5;28;01mimport\u001b[39;00m\u001b[38;5;250m \u001b[39m\u001b[38;5;21;01mmatplotlib\u001b[39;00m\u001b[38;5;21;01m.\u001b[39;00m\u001b[38;5;21;01mpyplot\u001b[39;00m\u001b[38;5;250m \u001b[39m\u001b[38;5;28;01mas\u001b[39;00m\u001b[38;5;250m \u001b[39m\u001b[38;5;21;01mplt\u001b[39;00m\n\u001b[1;32m      4\u001b[0m \u001b[38;5;28;01mimport\u001b[39;00m\u001b[38;5;250m \u001b[39m\u001b[38;5;21;01mseaborn\u001b[39;00m\u001b[38;5;250m \u001b[39m\u001b[38;5;28;01mas\u001b[39;00m\u001b[38;5;250m \u001b[39m\u001b[38;5;21;01msns\u001b[39;00m\n\u001b[0;32m----> 5\u001b[0m \u001b[38;5;28;01mfrom\u001b[39;00m\u001b[38;5;250m \u001b[39m\u001b[38;5;21;01mxgboost\u001b[39;00m\u001b[38;5;250m \u001b[39m\u001b[38;5;28;01mimport\u001b[39;00m XGBClassifier\n\u001b[1;32m      6\u001b[0m \u001b[38;5;28;01mfrom\u001b[39;00m\u001b[38;5;250m \u001b[39m\u001b[38;5;21;01msklearn\u001b[39;00m\u001b[38;5;21;01m.\u001b[39;00m\u001b[38;5;21;01mpreprocessing\u001b[39;00m\u001b[38;5;250m \u001b[39m\u001b[38;5;28;01mimport\u001b[39;00m OrdinalEncoder, LabelEncoder\n\u001b[1;32m      7\u001b[0m \u001b[38;5;28;01mfrom\u001b[39;00m\u001b[38;5;250m \u001b[39m\u001b[38;5;21;01msklearn\u001b[39;00m\u001b[38;5;21;01m.\u001b[39;00m\u001b[38;5;21;01mmodel_selection\u001b[39;00m\u001b[38;5;250m \u001b[39m\u001b[38;5;28;01mimport\u001b[39;00m train_test_split\n",
      "\u001b[0;31mModuleNotFoundError\u001b[0m: No module named 'xgboost'"
     ]
    }
   ],
   "source": [
    "import pandas as pd\n",
    "import numpy as np\n",
    "import matplotlib.pyplot as plt\n",
    "import seaborn as sns\n",
    "from xgboost import XGBClassifier\n",
    "from sklearn.preprocessing import OrdinalEncoder, LabelEncoder\n",
    "from sklearn.model_selection import train_test_split\n",
    "from sklearn.metrics import confusion_matrix, matthews_corrcoef"
   ]
  },
  {
   "cell_type": "code",
   "execution_count": null,
   "id": "502d64a0",
   "metadata": {
    "execution": {
     "iopub.execute_input": "2025-04-06T03:24:57.495864Z",
     "iopub.status.busy": "2025-04-06T03:24:57.495293Z",
     "iopub.status.idle": "2025-04-06T03:25:14.639546Z",
     "shell.execute_reply": "2025-04-06T03:25:14.638434Z"
    },
    "papermill": {
     "duration": 17.15507,
     "end_time": "2025-04-06T03:25:14.641499",
     "exception": false,
     "start_time": "2025-04-06T03:24:57.486429",
     "status": "completed"
    },
    "tags": []
   },
   "outputs": [],
   "source": [
    "train_df = pd.read_csv('/data/train.csv', index_col = 'id')\n",
    "test_df = pd.read_csv('/data/test.csv', index_col = 'id')\n",
    "sample_df = pd.read_csv('/data/sample_submission.csv')"
   ]
  },
  {
   "cell_type": "code",
   "execution_count": null,
   "id": "fafc3eb4",
   "metadata": {
    "execution": {
     "iopub.execute_input": "2025-04-06T03:25:14.655991Z",
     "iopub.status.busy": "2025-04-06T03:25:14.655579Z",
     "iopub.status.idle": "2025-04-06T03:25:14.679224Z",
     "shell.execute_reply": "2025-04-06T03:25:14.677791Z"
    },
    "papermill": {
     "duration": 0.032843,
     "end_time": "2025-04-06T03:25:14.681045",
     "exception": false,
     "start_time": "2025-04-06T03:25:14.648202",
     "status": "completed"
    },
    "tags": []
   },
   "outputs": [
    {
     "name": "stdout",
     "output_type": "stream",
     "text": [
      "<class 'pandas.core.frame.DataFrame'>\n",
      "Index: 3116945 entries, 0 to 3116944\n",
      "Data columns (total 21 columns):\n",
      " #   Column                Dtype  \n",
      "---  ------                -----  \n",
      " 0   class                 object \n",
      " 1   cap-diameter          float64\n",
      " 2   cap-shape             object \n",
      " 3   cap-surface           object \n",
      " 4   cap-color             object \n",
      " 5   does-bruise-or-bleed  object \n",
      " 6   gill-attachment       object \n",
      " 7   gill-spacing          object \n",
      " 8   gill-color            object \n",
      " 9   stem-height           float64\n",
      " 10  stem-width            float64\n",
      " 11  stem-root             object \n",
      " 12  stem-surface          object \n",
      " 13  stem-color            object \n",
      " 14  veil-type             object \n",
      " 15  veil-color            object \n",
      " 16  has-ring              object \n",
      " 17  ring-type             object \n",
      " 18  spore-print-color     object \n",
      " 19  habitat               object \n",
      " 20  season                object \n",
      "dtypes: float64(3), object(18)\n",
      "memory usage: 523.2+ MB\n"
     ]
    }
   ],
   "source": [
    "train_df.info()"
   ]
  },
  {
   "cell_type": "code",
   "execution_count": null,
   "id": "fbd1294e",
   "metadata": {
    "execution": {
     "iopub.execute_input": "2025-04-06T03:25:14.696174Z",
     "iopub.status.busy": "2025-04-06T03:25:14.695820Z",
     "iopub.status.idle": "2025-04-06T03:25:14.731365Z",
     "shell.execute_reply": "2025-04-06T03:25:14.730211Z"
    },
    "papermill": {
     "duration": 0.045007,
     "end_time": "2025-04-06T03:25:14.733225",
     "exception": false,
     "start_time": "2025-04-06T03:25:14.688218",
     "status": "completed"
    },
    "tags": []
   },
   "outputs": [
    {
     "data": {
      "text/html": [
       "<div>\n",
       "<style scoped>\n",
       "    .dataframe tbody tr th:only-of-type {\n",
       "        vertical-align: middle;\n",
       "    }\n",
       "\n",
       "    .dataframe tbody tr th {\n",
       "        vertical-align: top;\n",
       "    }\n",
       "\n",
       "    .dataframe thead th {\n",
       "        text-align: right;\n",
       "    }\n",
       "</style>\n",
       "<table border=\"1\" class=\"dataframe\">\n",
       "  <thead>\n",
       "    <tr style=\"text-align: right;\">\n",
       "      <th></th>\n",
       "      <th>class</th>\n",
       "      <th>cap-diameter</th>\n",
       "      <th>cap-shape</th>\n",
       "      <th>cap-surface</th>\n",
       "      <th>cap-color</th>\n",
       "      <th>does-bruise-or-bleed</th>\n",
       "      <th>gill-attachment</th>\n",
       "      <th>gill-spacing</th>\n",
       "      <th>gill-color</th>\n",
       "      <th>stem-height</th>\n",
       "      <th>...</th>\n",
       "      <th>stem-root</th>\n",
       "      <th>stem-surface</th>\n",
       "      <th>stem-color</th>\n",
       "      <th>veil-type</th>\n",
       "      <th>veil-color</th>\n",
       "      <th>has-ring</th>\n",
       "      <th>ring-type</th>\n",
       "      <th>spore-print-color</th>\n",
       "      <th>habitat</th>\n",
       "      <th>season</th>\n",
       "    </tr>\n",
       "    <tr>\n",
       "      <th>id</th>\n",
       "      <th></th>\n",
       "      <th></th>\n",
       "      <th></th>\n",
       "      <th></th>\n",
       "      <th></th>\n",
       "      <th></th>\n",
       "      <th></th>\n",
       "      <th></th>\n",
       "      <th></th>\n",
       "      <th></th>\n",
       "      <th></th>\n",
       "      <th></th>\n",
       "      <th></th>\n",
       "      <th></th>\n",
       "      <th></th>\n",
       "      <th></th>\n",
       "      <th></th>\n",
       "      <th></th>\n",
       "      <th></th>\n",
       "      <th></th>\n",
       "      <th></th>\n",
       "    </tr>\n",
       "  </thead>\n",
       "  <tbody>\n",
       "    <tr>\n",
       "      <th>0</th>\n",
       "      <td>e</td>\n",
       "      <td>8.80</td>\n",
       "      <td>f</td>\n",
       "      <td>s</td>\n",
       "      <td>u</td>\n",
       "      <td>f</td>\n",
       "      <td>a</td>\n",
       "      <td>c</td>\n",
       "      <td>w</td>\n",
       "      <td>4.51</td>\n",
       "      <td>...</td>\n",
       "      <td>NaN</td>\n",
       "      <td>NaN</td>\n",
       "      <td>w</td>\n",
       "      <td>NaN</td>\n",
       "      <td>NaN</td>\n",
       "      <td>f</td>\n",
       "      <td>f</td>\n",
       "      <td>NaN</td>\n",
       "      <td>d</td>\n",
       "      <td>a</td>\n",
       "    </tr>\n",
       "    <tr>\n",
       "      <th>1</th>\n",
       "      <td>p</td>\n",
       "      <td>4.51</td>\n",
       "      <td>x</td>\n",
       "      <td>h</td>\n",
       "      <td>o</td>\n",
       "      <td>f</td>\n",
       "      <td>a</td>\n",
       "      <td>c</td>\n",
       "      <td>n</td>\n",
       "      <td>4.79</td>\n",
       "      <td>...</td>\n",
       "      <td>NaN</td>\n",
       "      <td>y</td>\n",
       "      <td>o</td>\n",
       "      <td>NaN</td>\n",
       "      <td>NaN</td>\n",
       "      <td>t</td>\n",
       "      <td>z</td>\n",
       "      <td>NaN</td>\n",
       "      <td>d</td>\n",
       "      <td>w</td>\n",
       "    </tr>\n",
       "    <tr>\n",
       "      <th>2</th>\n",
       "      <td>e</td>\n",
       "      <td>6.94</td>\n",
       "      <td>f</td>\n",
       "      <td>s</td>\n",
       "      <td>b</td>\n",
       "      <td>f</td>\n",
       "      <td>x</td>\n",
       "      <td>c</td>\n",
       "      <td>w</td>\n",
       "      <td>6.85</td>\n",
       "      <td>...</td>\n",
       "      <td>NaN</td>\n",
       "      <td>s</td>\n",
       "      <td>n</td>\n",
       "      <td>NaN</td>\n",
       "      <td>NaN</td>\n",
       "      <td>f</td>\n",
       "      <td>f</td>\n",
       "      <td>NaN</td>\n",
       "      <td>l</td>\n",
       "      <td>w</td>\n",
       "    </tr>\n",
       "    <tr>\n",
       "      <th>3</th>\n",
       "      <td>e</td>\n",
       "      <td>3.88</td>\n",
       "      <td>f</td>\n",
       "      <td>y</td>\n",
       "      <td>g</td>\n",
       "      <td>f</td>\n",
       "      <td>s</td>\n",
       "      <td>NaN</td>\n",
       "      <td>g</td>\n",
       "      <td>4.16</td>\n",
       "      <td>...</td>\n",
       "      <td>NaN</td>\n",
       "      <td>NaN</td>\n",
       "      <td>w</td>\n",
       "      <td>NaN</td>\n",
       "      <td>NaN</td>\n",
       "      <td>f</td>\n",
       "      <td>f</td>\n",
       "      <td>NaN</td>\n",
       "      <td>d</td>\n",
       "      <td>u</td>\n",
       "    </tr>\n",
       "    <tr>\n",
       "      <th>4</th>\n",
       "      <td>e</td>\n",
       "      <td>5.85</td>\n",
       "      <td>x</td>\n",
       "      <td>l</td>\n",
       "      <td>w</td>\n",
       "      <td>f</td>\n",
       "      <td>d</td>\n",
       "      <td>NaN</td>\n",
       "      <td>w</td>\n",
       "      <td>3.37</td>\n",
       "      <td>...</td>\n",
       "      <td>NaN</td>\n",
       "      <td>NaN</td>\n",
       "      <td>w</td>\n",
       "      <td>NaN</td>\n",
       "      <td>NaN</td>\n",
       "      <td>f</td>\n",
       "      <td>f</td>\n",
       "      <td>NaN</td>\n",
       "      <td>g</td>\n",
       "      <td>a</td>\n",
       "    </tr>\n",
       "  </tbody>\n",
       "</table>\n",
       "<p>5 rows × 21 columns</p>\n",
       "</div>"
      ],
      "text/plain": [
       "   class  cap-diameter cap-shape cap-surface cap-color does-bruise-or-bleed  \\\n",
       "id                                                                            \n",
       "0      e          8.80         f           s         u                    f   \n",
       "1      p          4.51         x           h         o                    f   \n",
       "2      e          6.94         f           s         b                    f   \n",
       "3      e          3.88         f           y         g                    f   \n",
       "4      e          5.85         x           l         w                    f   \n",
       "\n",
       "   gill-attachment gill-spacing gill-color  stem-height  ...  stem-root  \\\n",
       "id                                                       ...              \n",
       "0                a            c          w         4.51  ...        NaN   \n",
       "1                a            c          n         4.79  ...        NaN   \n",
       "2                x            c          w         6.85  ...        NaN   \n",
       "3                s          NaN          g         4.16  ...        NaN   \n",
       "4                d          NaN          w         3.37  ...        NaN   \n",
       "\n",
       "   stem-surface stem-color veil-type veil-color has-ring ring-type  \\\n",
       "id                                                                   \n",
       "0           NaN          w       NaN        NaN        f         f   \n",
       "1             y          o       NaN        NaN        t         z   \n",
       "2             s          n       NaN        NaN        f         f   \n",
       "3           NaN          w       NaN        NaN        f         f   \n",
       "4           NaN          w       NaN        NaN        f         f   \n",
       "\n",
       "   spore-print-color habitat season  \n",
       "id                                   \n",
       "0                NaN       d      a  \n",
       "1                NaN       d      w  \n",
       "2                NaN       l      w  \n",
       "3                NaN       d      u  \n",
       "4                NaN       g      a  \n",
       "\n",
       "[5 rows x 21 columns]"
      ]
     },
     "execution_count": 4,
     "metadata": {},
     "output_type": "execute_result"
    }
   ],
   "source": [
    "train_df.head()"
   ]
  },
  {
   "cell_type": "code",
   "execution_count": null,
   "id": "b56b316b",
   "metadata": {
    "execution": {
     "iopub.execute_input": "2025-04-06T03:25:14.748739Z",
     "iopub.status.busy": "2025-04-06T03:25:14.748333Z",
     "iopub.status.idle": "2025-04-06T03:25:17.191490Z",
     "shell.execute_reply": "2025-04-06T03:25:17.190252Z"
    },
    "papermill": {
     "duration": 2.452756,
     "end_time": "2025-04-06T03:25:17.193420",
     "exception": false,
     "start_time": "2025-04-06T03:25:14.740664",
     "status": "completed"
    },
    "tags": []
   },
   "outputs": [
    {
     "data": {
      "text/plain": [
       "class                         0\n",
       "cap-diameter                  4\n",
       "cap-shape                    40\n",
       "cap-surface              671023\n",
       "cap-color                    12\n",
       "does-bruise-or-bleed          8\n",
       "gill-attachment          523936\n",
       "gill-spacing            1258435\n",
       "gill-color                   57\n",
       "stem-height                   0\n",
       "stem-width                    0\n",
       "stem-root               2757023\n",
       "stem-surface            1980861\n",
       "stem-color                   38\n",
       "veil-type               2957493\n",
       "veil-color              2740947\n",
       "has-ring                     24\n",
       "ring-type                128880\n",
       "spore-print-color       2849682\n",
       "habitat                      45\n",
       "season                        0\n",
       "dtype: int64"
      ]
     },
     "execution_count": 5,
     "metadata": {},
     "output_type": "execute_result"
    }
   ],
   "source": [
    "train_df.isnull().sum()"
   ]
  },
  {
   "cell_type": "code",
   "execution_count": null,
   "id": "224b028f",
   "metadata": {
    "execution": {
     "iopub.execute_input": "2025-04-06T03:25:17.208804Z",
     "iopub.status.busy": "2025-04-06T03:25:17.208406Z",
     "iopub.status.idle": "2025-04-06T03:25:17.218646Z",
     "shell.execute_reply": "2025-04-06T03:25:17.217288Z"
    },
    "papermill": {
     "duration": 0.019849,
     "end_time": "2025-04-06T03:25:17.220391",
     "exception": false,
     "start_time": "2025-04-06T03:25:17.200542",
     "status": "completed"
    },
    "tags": []
   },
   "outputs": [
    {
     "name": "stdout",
     "output_type": "stream",
     "text": [
      "<class 'pandas.core.frame.DataFrame'>\n",
      "Index: 2077964 entries, 3116945 to 5194908\n",
      "Data columns (total 20 columns):\n",
      " #   Column                Dtype  \n",
      "---  ------                -----  \n",
      " 0   cap-diameter          float64\n",
      " 1   cap-shape             object \n",
      " 2   cap-surface           object \n",
      " 3   cap-color             object \n",
      " 4   does-bruise-or-bleed  object \n",
      " 5   gill-attachment       object \n",
      " 6   gill-spacing          object \n",
      " 7   gill-color            object \n",
      " 8   stem-height           float64\n",
      " 9   stem-width            float64\n",
      " 10  stem-root             object \n",
      " 11  stem-surface          object \n",
      " 12  stem-color            object \n",
      " 13  veil-type             object \n",
      " 14  veil-color            object \n",
      " 15  has-ring              object \n",
      " 16  ring-type             object \n",
      " 17  spore-print-color     object \n",
      " 18  habitat               object \n",
      " 19  season                object \n",
      "dtypes: float64(3), object(17)\n",
      "memory usage: 332.9+ MB\n"
     ]
    }
   ],
   "source": [
    "test_df.info()"
   ]
  },
  {
   "cell_type": "code",
   "execution_count": null,
   "id": "d605959b",
   "metadata": {
    "execution": {
     "iopub.execute_input": "2025-04-06T03:25:17.236218Z",
     "iopub.status.busy": "2025-04-06T03:25:17.235872Z",
     "iopub.status.idle": "2025-04-06T03:25:18.794830Z",
     "shell.execute_reply": "2025-04-06T03:25:18.793608Z"
    },
    "papermill": {
     "duration": 1.568688,
     "end_time": "2025-04-06T03:25:18.796417",
     "exception": false,
     "start_time": "2025-04-06T03:25:17.227729",
     "status": "completed"
    },
    "tags": []
   },
   "outputs": [
    {
     "data": {
      "text/plain": [
       "cap-diameter                  7\n",
       "cap-shape                    31\n",
       "cap-surface              446904\n",
       "cap-color                    13\n",
       "does-bruise-or-bleed         10\n",
       "gill-attachment          349821\n",
       "gill-spacing             839595\n",
       "gill-color                   49\n",
       "stem-height                   1\n",
       "stem-width                    0\n",
       "stem-root               1838012\n",
       "stem-surface            1321488\n",
       "stem-color                   21\n",
       "veil-type               1971545\n",
       "veil-color              1826124\n",
       "has-ring                     19\n",
       "ring-type                 86195\n",
       "spore-print-color       1899617\n",
       "habitat                      25\n",
       "season                        0\n",
       "dtype: int64"
      ]
     },
     "execution_count": 7,
     "metadata": {},
     "output_type": "execute_result"
    }
   ],
   "source": [
    "test_df.isnull().sum()"
   ]
  },
  {
   "cell_type": "code",
   "execution_count": null,
   "id": "174ff5c0",
   "metadata": {
    "execution": {
     "iopub.execute_input": "2025-04-06T03:25:18.812700Z",
     "iopub.status.busy": "2025-04-06T03:25:18.812316Z",
     "iopub.status.idle": "2025-04-06T03:25:21.240387Z",
     "shell.execute_reply": "2025-04-06T03:25:21.239227Z"
    },
    "papermill": {
     "duration": 2.438422,
     "end_time": "2025-04-06T03:25:21.242163",
     "exception": false,
     "start_time": "2025-04-06T03:25:18.803741",
     "status": "completed"
    },
    "tags": []
   },
   "outputs": [
    {
     "name": "stdout",
     "output_type": "stream",
     "text": [
      "class                    0.000000\n",
      "cap-diameter             0.000128\n",
      "cap-shape                0.001283\n",
      "cap-surface             21.528227\n",
      "cap-color                0.000385\n",
      "does-bruise-or-bleed     0.000257\n",
      "gill-attachment         16.809280\n",
      "gill-spacing            40.373988\n",
      "gill-color               0.001829\n",
      "stem-height              0.000000\n",
      "stem-width               0.000000\n",
      "stem-root               88.452732\n",
      "stem-surface            63.551362\n",
      "stem-color               0.001219\n",
      "veil-type               94.884350\n",
      "veil-color              87.936970\n",
      "has-ring                 0.000770\n",
      "ring-type                4.134818\n",
      "spore-print-color       91.425482\n",
      "habitat                  0.001444\n",
      "season                   0.000000\n",
      "dtype: float64\n"
     ]
    }
   ],
   "source": [
    "missing_percentage = (train_df.isnull().sum() / len(train_df)) * 100\n",
    "print(missing_percentage)"
   ]
  },
  {
   "cell_type": "code",
   "execution_count": null,
   "id": "d3686ecd",
   "metadata": {
    "execution": {
     "iopub.execute_input": "2025-04-06T03:25:21.258034Z",
     "iopub.status.busy": "2025-04-06T03:25:21.257680Z",
     "iopub.status.idle": "2025-04-06T03:25:21.722351Z",
     "shell.execute_reply": "2025-04-06T03:25:21.721019Z"
    },
    "papermill": {
     "duration": 0.474982,
     "end_time": "2025-04-06T03:25:21.724437",
     "exception": false,
     "start_time": "2025-04-06T03:25:21.249455",
     "status": "completed"
    },
    "tags": []
   },
   "outputs": [],
   "source": [
    "copy_train = train_df.copy()"
   ]
  },
  {
   "cell_type": "code",
   "execution_count": null,
   "id": "2e780cea",
   "metadata": {
    "execution": {
     "iopub.execute_input": "2025-04-06T03:25:21.740440Z",
     "iopub.status.busy": "2025-04-06T03:25:21.740109Z",
     "iopub.status.idle": "2025-04-06T03:25:28.382452Z",
     "shell.execute_reply": "2025-04-06T03:25:28.381401Z"
    },
    "papermill": {
     "duration": 6.652569,
     "end_time": "2025-04-06T03:25:28.384434",
     "exception": false,
     "start_time": "2025-04-06T03:25:21.731865",
     "status": "completed"
    },
    "tags": []
   },
   "outputs": [],
   "source": [
    "categorical_cols = train_df.select_dtypes(include=['object']).columns\n",
    "copy_train[categorical_cols]  = copy_train[categorical_cols].fillna('unknown')"
   ]
  },
  {
   "cell_type": "code",
   "execution_count": null,
   "id": "260cba0a",
   "metadata": {
    "execution": {
     "iopub.execute_input": "2025-04-06T03:25:28.401273Z",
     "iopub.status.busy": "2025-04-06T03:25:28.400914Z",
     "iopub.status.idle": "2025-04-06T03:25:31.147690Z",
     "shell.execute_reply": "2025-04-06T03:25:31.146363Z"
    },
    "papermill": {
     "duration": 2.757569,
     "end_time": "2025-04-06T03:25:31.149651",
     "exception": false,
     "start_time": "2025-04-06T03:25:28.392082",
     "status": "completed"
    },
    "tags": []
   },
   "outputs": [
    {
     "data": {
      "text/plain": [
       "class                   0\n",
       "cap-diameter            4\n",
       "cap-shape               0\n",
       "cap-surface             0\n",
       "cap-color               0\n",
       "does-bruise-or-bleed    0\n",
       "gill-attachment         0\n",
       "gill-spacing            0\n",
       "gill-color              0\n",
       "stem-height             0\n",
       "stem-width              0\n",
       "stem-root               0\n",
       "stem-surface            0\n",
       "stem-color              0\n",
       "veil-type               0\n",
       "veil-color              0\n",
       "has-ring                0\n",
       "ring-type               0\n",
       "spore-print-color       0\n",
       "habitat                 0\n",
       "season                  0\n",
       "dtype: int64"
      ]
     },
     "execution_count": 11,
     "metadata": {},
     "output_type": "execute_result"
    }
   ],
   "source": [
    "copy_train.isnull().sum()"
   ]
  },
  {
   "cell_type": "code",
   "execution_count": null,
   "id": "57b0de23",
   "metadata": {
    "execution": {
     "iopub.execute_input": "2025-04-06T03:25:31.166399Z",
     "iopub.status.busy": "2025-04-06T03:25:31.166063Z",
     "iopub.status.idle": "2025-04-06T03:25:31.489783Z",
     "shell.execute_reply": "2025-04-06T03:25:31.488802Z"
    },
    "papermill": {
     "duration": 0.334012,
     "end_time": "2025-04-06T03:25:31.491679",
     "exception": false,
     "start_time": "2025-04-06T03:25:31.157667",
     "status": "completed"
    },
    "tags": []
   },
   "outputs": [],
   "source": [
    "numerical_cols = train_df.select_dtypes(exclude=['object']).columns\n",
    "for col in numerical_cols:\n",
    "     mode_value = copy_train[col].mode()[0]\n",
    "     copy_train[col] = copy_train[col].fillna(mode_value)"
   ]
  },
  {
   "cell_type": "code",
   "execution_count": null,
   "id": "6c29289a",
   "metadata": {
    "execution": {
     "iopub.execute_input": "2025-04-06T03:25:31.507575Z",
     "iopub.status.busy": "2025-04-06T03:25:31.507183Z",
     "iopub.status.idle": "2025-04-06T03:25:31.511399Z",
     "shell.execute_reply": "2025-04-06T03:25:31.510266Z"
    },
    "papermill": {
     "duration": 0.014248,
     "end_time": "2025-04-06T03:25:31.513350",
     "exception": false,
     "start_time": "2025-04-06T03:25:31.499102",
     "status": "completed"
    },
    "tags": []
   },
   "outputs": [],
   "source": [
    "# copy_train = copy_train.drop(['spore-print-color', 'veil-color', 'stem-root', 'stem-surface', 'veil-type', 'gill-spacing', 'cap-surface', 'gill-attachment'], axis = 1)"
   ]
  },
  {
   "cell_type": "code",
   "execution_count": null,
   "id": "5a58042a",
   "metadata": {
    "execution": {
     "iopub.execute_input": "2025-04-06T03:25:31.530003Z",
     "iopub.status.busy": "2025-04-06T03:25:31.529650Z",
     "iopub.status.idle": "2025-04-06T03:25:34.291421Z",
     "shell.execute_reply": "2025-04-06T03:25:34.290181Z"
    },
    "papermill": {
     "duration": 2.772002,
     "end_time": "2025-04-06T03:25:34.293302",
     "exception": false,
     "start_time": "2025-04-06T03:25:31.521300",
     "status": "completed"
    },
    "tags": []
   },
   "outputs": [
    {
     "data": {
      "text/plain": [
       "class                   0.0\n",
       "cap-diameter            0.0\n",
       "cap-shape               0.0\n",
       "cap-surface             0.0\n",
       "cap-color               0.0\n",
       "does-bruise-or-bleed    0.0\n",
       "gill-attachment         0.0\n",
       "gill-spacing            0.0\n",
       "gill-color              0.0\n",
       "stem-height             0.0\n",
       "stem-width              0.0\n",
       "stem-root               0.0\n",
       "stem-surface            0.0\n",
       "stem-color              0.0\n",
       "veil-type               0.0\n",
       "veil-color              0.0\n",
       "has-ring                0.0\n",
       "ring-type               0.0\n",
       "spore-print-color       0.0\n",
       "habitat                 0.0\n",
       "season                  0.0\n",
       "dtype: float64"
      ]
     },
     "execution_count": 14,
     "metadata": {},
     "output_type": "execute_result"
    }
   ],
   "source": [
    "copy_train.isnull().sum()/len(copy_train) * 100"
   ]
  },
  {
   "cell_type": "code",
   "execution_count": null,
   "id": "518a038f",
   "metadata": {
    "execution": {
     "iopub.execute_input": "2025-04-06T03:25:34.310455Z",
     "iopub.status.busy": "2025-04-06T03:25:34.309959Z",
     "iopub.status.idle": "2025-04-06T03:25:34.344439Z",
     "shell.execute_reply": "2025-04-06T03:25:34.343209Z"
    },
    "papermill": {
     "duration": 0.045198,
     "end_time": "2025-04-06T03:25:34.346363",
     "exception": false,
     "start_time": "2025-04-06T03:25:34.301165",
     "status": "completed"
    },
    "tags": []
   },
   "outputs": [
    {
     "data": {
      "text/html": [
       "<div>\n",
       "<style scoped>\n",
       "    .dataframe tbody tr th:only-of-type {\n",
       "        vertical-align: middle;\n",
       "    }\n",
       "\n",
       "    .dataframe tbody tr th {\n",
       "        vertical-align: top;\n",
       "    }\n",
       "\n",
       "    .dataframe thead th {\n",
       "        text-align: right;\n",
       "    }\n",
       "</style>\n",
       "<table border=\"1\" class=\"dataframe\">\n",
       "  <thead>\n",
       "    <tr style=\"text-align: right;\">\n",
       "      <th></th>\n",
       "      <th>class</th>\n",
       "      <th>cap-diameter</th>\n",
       "      <th>cap-shape</th>\n",
       "      <th>cap-surface</th>\n",
       "      <th>cap-color</th>\n",
       "      <th>does-bruise-or-bleed</th>\n",
       "      <th>gill-attachment</th>\n",
       "      <th>gill-spacing</th>\n",
       "      <th>gill-color</th>\n",
       "      <th>stem-height</th>\n",
       "      <th>...</th>\n",
       "      <th>stem-root</th>\n",
       "      <th>stem-surface</th>\n",
       "      <th>stem-color</th>\n",
       "      <th>veil-type</th>\n",
       "      <th>veil-color</th>\n",
       "      <th>has-ring</th>\n",
       "      <th>ring-type</th>\n",
       "      <th>spore-print-color</th>\n",
       "      <th>habitat</th>\n",
       "      <th>season</th>\n",
       "    </tr>\n",
       "    <tr>\n",
       "      <th>id</th>\n",
       "      <th></th>\n",
       "      <th></th>\n",
       "      <th></th>\n",
       "      <th></th>\n",
       "      <th></th>\n",
       "      <th></th>\n",
       "      <th></th>\n",
       "      <th></th>\n",
       "      <th></th>\n",
       "      <th></th>\n",
       "      <th></th>\n",
       "      <th></th>\n",
       "      <th></th>\n",
       "      <th></th>\n",
       "      <th></th>\n",
       "      <th></th>\n",
       "      <th></th>\n",
       "      <th></th>\n",
       "      <th></th>\n",
       "      <th></th>\n",
       "      <th></th>\n",
       "    </tr>\n",
       "  </thead>\n",
       "  <tbody>\n",
       "    <tr>\n",
       "      <th>0</th>\n",
       "      <td>e</td>\n",
       "      <td>8.80</td>\n",
       "      <td>f</td>\n",
       "      <td>s</td>\n",
       "      <td>u</td>\n",
       "      <td>f</td>\n",
       "      <td>a</td>\n",
       "      <td>c</td>\n",
       "      <td>w</td>\n",
       "      <td>4.51</td>\n",
       "      <td>...</td>\n",
       "      <td>unknown</td>\n",
       "      <td>unknown</td>\n",
       "      <td>w</td>\n",
       "      <td>unknown</td>\n",
       "      <td>unknown</td>\n",
       "      <td>f</td>\n",
       "      <td>f</td>\n",
       "      <td>unknown</td>\n",
       "      <td>d</td>\n",
       "      <td>a</td>\n",
       "    </tr>\n",
       "    <tr>\n",
       "      <th>1</th>\n",
       "      <td>p</td>\n",
       "      <td>4.51</td>\n",
       "      <td>x</td>\n",
       "      <td>h</td>\n",
       "      <td>o</td>\n",
       "      <td>f</td>\n",
       "      <td>a</td>\n",
       "      <td>c</td>\n",
       "      <td>n</td>\n",
       "      <td>4.79</td>\n",
       "      <td>...</td>\n",
       "      <td>unknown</td>\n",
       "      <td>y</td>\n",
       "      <td>o</td>\n",
       "      <td>unknown</td>\n",
       "      <td>unknown</td>\n",
       "      <td>t</td>\n",
       "      <td>z</td>\n",
       "      <td>unknown</td>\n",
       "      <td>d</td>\n",
       "      <td>w</td>\n",
       "    </tr>\n",
       "    <tr>\n",
       "      <th>2</th>\n",
       "      <td>e</td>\n",
       "      <td>6.94</td>\n",
       "      <td>f</td>\n",
       "      <td>s</td>\n",
       "      <td>b</td>\n",
       "      <td>f</td>\n",
       "      <td>x</td>\n",
       "      <td>c</td>\n",
       "      <td>w</td>\n",
       "      <td>6.85</td>\n",
       "      <td>...</td>\n",
       "      <td>unknown</td>\n",
       "      <td>s</td>\n",
       "      <td>n</td>\n",
       "      <td>unknown</td>\n",
       "      <td>unknown</td>\n",
       "      <td>f</td>\n",
       "      <td>f</td>\n",
       "      <td>unknown</td>\n",
       "      <td>l</td>\n",
       "      <td>w</td>\n",
       "    </tr>\n",
       "    <tr>\n",
       "      <th>3</th>\n",
       "      <td>e</td>\n",
       "      <td>3.88</td>\n",
       "      <td>f</td>\n",
       "      <td>y</td>\n",
       "      <td>g</td>\n",
       "      <td>f</td>\n",
       "      <td>s</td>\n",
       "      <td>unknown</td>\n",
       "      <td>g</td>\n",
       "      <td>4.16</td>\n",
       "      <td>...</td>\n",
       "      <td>unknown</td>\n",
       "      <td>unknown</td>\n",
       "      <td>w</td>\n",
       "      <td>unknown</td>\n",
       "      <td>unknown</td>\n",
       "      <td>f</td>\n",
       "      <td>f</td>\n",
       "      <td>unknown</td>\n",
       "      <td>d</td>\n",
       "      <td>u</td>\n",
       "    </tr>\n",
       "    <tr>\n",
       "      <th>4</th>\n",
       "      <td>e</td>\n",
       "      <td>5.85</td>\n",
       "      <td>x</td>\n",
       "      <td>l</td>\n",
       "      <td>w</td>\n",
       "      <td>f</td>\n",
       "      <td>d</td>\n",
       "      <td>unknown</td>\n",
       "      <td>w</td>\n",
       "      <td>3.37</td>\n",
       "      <td>...</td>\n",
       "      <td>unknown</td>\n",
       "      <td>unknown</td>\n",
       "      <td>w</td>\n",
       "      <td>unknown</td>\n",
       "      <td>unknown</td>\n",
       "      <td>f</td>\n",
       "      <td>f</td>\n",
       "      <td>unknown</td>\n",
       "      <td>g</td>\n",
       "      <td>a</td>\n",
       "    </tr>\n",
       "  </tbody>\n",
       "</table>\n",
       "<p>5 rows × 21 columns</p>\n",
       "</div>"
      ],
      "text/plain": [
       "   class  cap-diameter cap-shape cap-surface cap-color does-bruise-or-bleed  \\\n",
       "id                                                                            \n",
       "0      e          8.80         f           s         u                    f   \n",
       "1      p          4.51         x           h         o                    f   \n",
       "2      e          6.94         f           s         b                    f   \n",
       "3      e          3.88         f           y         g                    f   \n",
       "4      e          5.85         x           l         w                    f   \n",
       "\n",
       "   gill-attachment gill-spacing gill-color  stem-height  ...  stem-root  \\\n",
       "id                                                       ...              \n",
       "0                a            c          w         4.51  ...    unknown   \n",
       "1                a            c          n         4.79  ...    unknown   \n",
       "2                x            c          w         6.85  ...    unknown   \n",
       "3                s      unknown          g         4.16  ...    unknown   \n",
       "4                d      unknown          w         3.37  ...    unknown   \n",
       "\n",
       "   stem-surface stem-color veil-type veil-color has-ring ring-type  \\\n",
       "id                                                                   \n",
       "0       unknown          w   unknown    unknown        f         f   \n",
       "1             y          o   unknown    unknown        t         z   \n",
       "2             s          n   unknown    unknown        f         f   \n",
       "3       unknown          w   unknown    unknown        f         f   \n",
       "4       unknown          w   unknown    unknown        f         f   \n",
       "\n",
       "   spore-print-color habitat season  \n",
       "id                                   \n",
       "0            unknown       d      a  \n",
       "1            unknown       d      w  \n",
       "2            unknown       l      w  \n",
       "3            unknown       d      u  \n",
       "4            unknown       g      a  \n",
       "\n",
       "[5 rows x 21 columns]"
      ]
     },
     "execution_count": 15,
     "metadata": {},
     "output_type": "execute_result"
    }
   ],
   "source": [
    "copy_train.head()"
   ]
  },
  {
   "cell_type": "code",
   "execution_count": null,
   "id": "26b5f837",
   "metadata": {
    "execution": {
     "iopub.execute_input": "2025-04-06T03:25:34.364663Z",
     "iopub.status.busy": "2025-04-06T03:25:34.364277Z",
     "iopub.status.idle": "2025-04-06T03:25:40.857065Z",
     "shell.execute_reply": "2025-04-06T03:25:40.855693Z"
    },
    "papermill": {
     "duration": 6.503808,
     "end_time": "2025-04-06T03:25:40.859252",
     "exception": false,
     "start_time": "2025-04-06T03:25:34.355444",
     "status": "completed"
    },
    "tags": []
   },
   "outputs": [],
   "source": [
    "X_train, X_val, y_train, y_val = train_test_split(\n",
    "    copy_train.drop(['class'], axis=1), copy_train['class'], test_size=0.2, random_state=42)"
   ]
  },
  {
   "cell_type": "code",
   "execution_count": null,
   "id": "0f1a3a5c",
   "metadata": {
    "execution": {
     "iopub.execute_input": "2025-04-06T03:25:40.876515Z",
     "iopub.status.busy": "2025-04-06T03:25:40.876153Z",
     "iopub.status.idle": "2025-04-06T03:25:59.674701Z",
     "shell.execute_reply": "2025-04-06T03:25:59.673581Z"
    },
    "papermill": {
     "duration": 18.809355,
     "end_time": "2025-04-06T03:25:59.676626",
     "exception": false,
     "start_time": "2025-04-06T03:25:40.867271",
     "status": "completed"
    },
    "tags": []
   },
   "outputs": [],
   "source": [
    "categorical_cols = X_train.select_dtypes(include=['object']).columns\n",
    "\n",
    "encoder = OrdinalEncoder(handle_unknown='use_encoded_value', unknown_value=-1)\n",
    "\n",
    "X_train_cat_encoded = encoder.fit_transform(X_train[categorical_cols].astype(str))\n",
    "\n",
    "X_val_cat_encoded = encoder.transform(X_val[categorical_cols].astype(str))\n",
    "\n",
    "X_train_encoded = X_train.copy()\n",
    "\n",
    "X_val_encoded = X_val.copy()\n",
    "\n",
    "X_train_encoded[categorical_cols] = X_train_cat_encoded\n",
    "\n",
    "X_val_encoded[categorical_cols] = X_val_cat_encoded\n"
   ]
  },
  {
   "cell_type": "code",
   "execution_count": null,
   "id": "817df85c",
   "metadata": {
    "execution": {
     "iopub.execute_input": "2025-04-06T03:25:59.694744Z",
     "iopub.status.busy": "2025-04-06T03:25:59.694177Z",
     "iopub.status.idle": "2025-04-06T03:26:00.263192Z",
     "shell.execute_reply": "2025-04-06T03:26:00.262022Z"
    },
    "papermill": {
     "duration": 0.580393,
     "end_time": "2025-04-06T03:26:00.265270",
     "exception": false,
     "start_time": "2025-04-06T03:25:59.684877",
     "status": "completed"
    },
    "tags": []
   },
   "outputs": [],
   "source": [
    "le = LabelEncoder()\n",
    "y_train_encoded = le.fit_transform(y_train)\n",
    "y_val_encoded = le.transform(y_val)"
   ]
  },
  {
   "cell_type": "code",
   "execution_count": null,
   "id": "5bdcd1b7",
   "metadata": {
    "execution": {
     "iopub.execute_input": "2025-04-06T03:26:00.282114Z",
     "iopub.status.busy": "2025-04-06T03:26:00.281703Z",
     "iopub.status.idle": "2025-04-06T03:26:00.307204Z",
     "shell.execute_reply": "2025-04-06T03:26:00.305983Z"
    },
    "papermill": {
     "duration": 0.035847,
     "end_time": "2025-04-06T03:26:00.308962",
     "exception": false,
     "start_time": "2025-04-06T03:26:00.273115",
     "status": "completed"
    },
    "tags": []
   },
   "outputs": [
    {
     "data": {
      "text/html": [
       "<div>\n",
       "<style scoped>\n",
       "    .dataframe tbody tr th:only-of-type {\n",
       "        vertical-align: middle;\n",
       "    }\n",
       "\n",
       "    .dataframe tbody tr th {\n",
       "        vertical-align: top;\n",
       "    }\n",
       "\n",
       "    .dataframe thead th {\n",
       "        text-align: right;\n",
       "    }\n",
       "</style>\n",
       "<table border=\"1\" class=\"dataframe\">\n",
       "  <thead>\n",
       "    <tr style=\"text-align: right;\">\n",
       "      <th></th>\n",
       "      <th>cap-diameter</th>\n",
       "      <th>cap-shape</th>\n",
       "      <th>cap-surface</th>\n",
       "      <th>cap-color</th>\n",
       "      <th>does-bruise-or-bleed</th>\n",
       "      <th>gill-attachment</th>\n",
       "      <th>gill-spacing</th>\n",
       "      <th>gill-color</th>\n",
       "      <th>stem-height</th>\n",
       "      <th>stem-width</th>\n",
       "      <th>stem-root</th>\n",
       "      <th>stem-surface</th>\n",
       "      <th>stem-color</th>\n",
       "      <th>veil-type</th>\n",
       "      <th>veil-color</th>\n",
       "      <th>has-ring</th>\n",
       "      <th>ring-type</th>\n",
       "      <th>spore-print-color</th>\n",
       "      <th>habitat</th>\n",
       "      <th>season</th>\n",
       "    </tr>\n",
       "    <tr>\n",
       "      <th>id</th>\n",
       "      <th></th>\n",
       "      <th></th>\n",
       "      <th></th>\n",
       "      <th></th>\n",
       "      <th></th>\n",
       "      <th></th>\n",
       "      <th></th>\n",
       "      <th></th>\n",
       "      <th></th>\n",
       "      <th></th>\n",
       "      <th></th>\n",
       "      <th></th>\n",
       "      <th></th>\n",
       "      <th></th>\n",
       "      <th></th>\n",
       "      <th></th>\n",
       "      <th></th>\n",
       "      <th></th>\n",
       "      <th></th>\n",
       "      <th></th>\n",
       "    </tr>\n",
       "  </thead>\n",
       "  <tbody>\n",
       "    <tr>\n",
       "      <th>1252551</th>\n",
       "      <td>2.58</td>\n",
       "      <td>58.0</td>\n",
       "      <td>71.0</td>\n",
       "      <td>52.0</td>\n",
       "      <td>19.0</td>\n",
       "      <td>40.0</td>\n",
       "      <td>24.0</td>\n",
       "      <td>41.0</td>\n",
       "      <td>2.87</td>\n",
       "      <td>5.69</td>\n",
       "      <td>32.0</td>\n",
       "      <td>49.0</td>\n",
       "      <td>41.0</td>\n",
       "      <td>20.0</td>\n",
       "      <td>20.0</td>\n",
       "      <td>4.0</td>\n",
       "      <td>16.0</td>\n",
       "      <td>26.0</td>\n",
       "      <td>23.0</td>\n",
       "      <td>0.0</td>\n",
       "    </tr>\n",
       "    <tr>\n",
       "      <th>1799166</th>\n",
       "      <td>1.83</td>\n",
       "      <td>41.0</td>\n",
       "      <td>46.0</td>\n",
       "      <td>53.0</td>\n",
       "      <td>8.0</td>\n",
       "      <td>66.0</td>\n",
       "      <td>24.0</td>\n",
       "      <td>41.0</td>\n",
       "      <td>5.36</td>\n",
       "      <td>2.70</td>\n",
       "      <td>32.0</td>\n",
       "      <td>49.0</td>\n",
       "      <td>41.0</td>\n",
       "      <td>20.0</td>\n",
       "      <td>20.0</td>\n",
       "      <td>4.0</td>\n",
       "      <td>16.0</td>\n",
       "      <td>26.0</td>\n",
       "      <td>34.0</td>\n",
       "      <td>0.0</td>\n",
       "    </tr>\n",
       "    <tr>\n",
       "      <th>1936146</th>\n",
       "      <td>5.22</td>\n",
       "      <td>63.0</td>\n",
       "      <td>50.0</td>\n",
       "      <td>53.0</td>\n",
       "      <td>8.0</td>\n",
       "      <td>44.0</td>\n",
       "      <td>40.0</td>\n",
       "      <td>57.0</td>\n",
       "      <td>7.32</td>\n",
       "      <td>7.41</td>\n",
       "      <td>32.0</td>\n",
       "      <td>49.0</td>\n",
       "      <td>38.0</td>\n",
       "      <td>20.0</td>\n",
       "      <td>20.0</td>\n",
       "      <td>4.0</td>\n",
       "      <td>16.0</td>\n",
       "      <td>26.0</td>\n",
       "      <td>34.0</td>\n",
       "      <td>0.0</td>\n",
       "    </tr>\n",
       "    <tr>\n",
       "      <th>1464811</th>\n",
       "      <td>4.52</td>\n",
       "      <td>45.0</td>\n",
       "      <td>69.0</td>\n",
       "      <td>65.0</td>\n",
       "      <td>8.0</td>\n",
       "      <td>62.0</td>\n",
       "      <td>26.0</td>\n",
       "      <td>57.0</td>\n",
       "      <td>5.85</td>\n",
       "      <td>12.74</td>\n",
       "      <td>32.0</td>\n",
       "      <td>36.0</td>\n",
       "      <td>53.0</td>\n",
       "      <td>20.0</td>\n",
       "      <td>20.0</td>\n",
       "      <td>4.0</td>\n",
       "      <td>16.0</td>\n",
       "      <td>26.0</td>\n",
       "      <td>23.0</td>\n",
       "      <td>0.0</td>\n",
       "    </tr>\n",
       "    <tr>\n",
       "      <th>767639</th>\n",
       "      <td>6.18</td>\n",
       "      <td>45.0</td>\n",
       "      <td>69.0</td>\n",
       "      <td>52.0</td>\n",
       "      <td>8.0</td>\n",
       "      <td>40.0</td>\n",
       "      <td>24.0</td>\n",
       "      <td>57.0</td>\n",
       "      <td>6.33</td>\n",
       "      <td>10.29</td>\n",
       "      <td>13.0</td>\n",
       "      <td>49.0</td>\n",
       "      <td>41.0</td>\n",
       "      <td>20.0</td>\n",
       "      <td>20.0</td>\n",
       "      <td>4.0</td>\n",
       "      <td>16.0</td>\n",
       "      <td>26.0</td>\n",
       "      <td>33.0</td>\n",
       "      <td>3.0</td>\n",
       "    </tr>\n",
       "  </tbody>\n",
       "</table>\n",
       "</div>"
      ],
      "text/plain": [
       "         cap-diameter  cap-shape  cap-surface  cap-color  \\\n",
       "id                                                         \n",
       "1252551          2.58       58.0         71.0       52.0   \n",
       "1799166          1.83       41.0         46.0       53.0   \n",
       "1936146          5.22       63.0         50.0       53.0   \n",
       "1464811          4.52       45.0         69.0       65.0   \n",
       "767639           6.18       45.0         69.0       52.0   \n",
       "\n",
       "         does-bruise-or-bleed  gill-attachment  gill-spacing  gill-color  \\\n",
       "id                                                                         \n",
       "1252551                  19.0             40.0          24.0        41.0   \n",
       "1799166                   8.0             66.0          24.0        41.0   \n",
       "1936146                   8.0             44.0          40.0        57.0   \n",
       "1464811                   8.0             62.0          26.0        57.0   \n",
       "767639                    8.0             40.0          24.0        57.0   \n",
       "\n",
       "         stem-height  stem-width  stem-root  stem-surface  stem-color  \\\n",
       "id                                                                      \n",
       "1252551         2.87        5.69       32.0          49.0        41.0   \n",
       "1799166         5.36        2.70       32.0          49.0        41.0   \n",
       "1936146         7.32        7.41       32.0          49.0        38.0   \n",
       "1464811         5.85       12.74       32.0          36.0        53.0   \n",
       "767639          6.33       10.29       13.0          49.0        41.0   \n",
       "\n",
       "         veil-type  veil-color  has-ring  ring-type  spore-print-color  \\\n",
       "id                                                                       \n",
       "1252551       20.0        20.0       4.0       16.0               26.0   \n",
       "1799166       20.0        20.0       4.0       16.0               26.0   \n",
       "1936146       20.0        20.0       4.0       16.0               26.0   \n",
       "1464811       20.0        20.0       4.0       16.0               26.0   \n",
       "767639        20.0        20.0       4.0       16.0               26.0   \n",
       "\n",
       "         habitat  season  \n",
       "id                        \n",
       "1252551     23.0     0.0  \n",
       "1799166     34.0     0.0  \n",
       "1936146     34.0     0.0  \n",
       "1464811     23.0     0.0  \n",
       "767639      33.0     3.0  "
      ]
     },
     "execution_count": 19,
     "metadata": {},
     "output_type": "execute_result"
    }
   ],
   "source": [
    "X_train_encoded.head()"
   ]
  },
  {
   "cell_type": "code",
   "execution_count": null,
   "id": "bf7e5bba",
   "metadata": {
    "execution": {
     "iopub.execute_input": "2025-04-06T03:26:00.326561Z",
     "iopub.status.busy": "2025-04-06T03:26:00.326174Z",
     "iopub.status.idle": "2025-04-06T03:26:00.332244Z",
     "shell.execute_reply": "2025-04-06T03:26:00.330925Z"
    },
    "papermill": {
     "duration": 0.017159,
     "end_time": "2025-04-06T03:26:00.334397",
     "exception": false,
     "start_time": "2025-04-06T03:26:00.317238",
     "status": "completed"
    },
    "tags": []
   },
   "outputs": [
    {
     "data": {
      "text/plain": [
       "array([1, 1, 1, ..., 1, 1, 0])"
      ]
     },
     "execution_count": 20,
     "metadata": {},
     "output_type": "execute_result"
    }
   ],
   "source": [
    "y_train_encoded"
   ]
  },
  {
   "cell_type": "code",
   "execution_count": null,
   "id": "4275fa49",
   "metadata": {
    "execution": {
     "iopub.execute_input": "2025-04-06T03:26:00.352784Z",
     "iopub.status.busy": "2025-04-06T03:26:00.352377Z",
     "iopub.status.idle": "2025-04-06T03:26:14.863791Z",
     "shell.execute_reply": "2025-04-06T03:26:14.862549Z"
    },
    "papermill": {
     "duration": 14.522926,
     "end_time": "2025-04-06T03:26:14.865770",
     "exception": false,
     "start_time": "2025-04-06T03:26:00.342844",
     "status": "completed"
    },
    "tags": []
   },
   "outputs": [
    {
     "data": {
      "text/html": [
       "<style>#sk-container-id-1 {color: black;background-color: white;}#sk-container-id-1 pre{padding: 0;}#sk-container-id-1 div.sk-toggleable {background-color: white;}#sk-container-id-1 label.sk-toggleable__label {cursor: pointer;display: block;width: 100%;margin-bottom: 0;padding: 0.3em;box-sizing: border-box;text-align: center;}#sk-container-id-1 label.sk-toggleable__label-arrow:before {content: \"▸\";float: left;margin-right: 0.25em;color: #696969;}#sk-container-id-1 label.sk-toggleable__label-arrow:hover:before {color: black;}#sk-container-id-1 div.sk-estimator:hover label.sk-toggleable__label-arrow:before {color: black;}#sk-container-id-1 div.sk-toggleable__content {max-height: 0;max-width: 0;overflow: hidden;text-align: left;background-color: #f0f8ff;}#sk-container-id-1 div.sk-toggleable__content pre {margin: 0.2em;color: black;border-radius: 0.25em;background-color: #f0f8ff;}#sk-container-id-1 input.sk-toggleable__control:checked~div.sk-toggleable__content {max-height: 200px;max-width: 100%;overflow: auto;}#sk-container-id-1 input.sk-toggleable__control:checked~label.sk-toggleable__label-arrow:before {content: \"▾\";}#sk-container-id-1 div.sk-estimator input.sk-toggleable__control:checked~label.sk-toggleable__label {background-color: #d4ebff;}#sk-container-id-1 div.sk-label input.sk-toggleable__control:checked~label.sk-toggleable__label {background-color: #d4ebff;}#sk-container-id-1 input.sk-hidden--visually {border: 0;clip: rect(1px 1px 1px 1px);clip: rect(1px, 1px, 1px, 1px);height: 1px;margin: -1px;overflow: hidden;padding: 0;position: absolute;width: 1px;}#sk-container-id-1 div.sk-estimator {font-family: monospace;background-color: #f0f8ff;border: 1px dotted black;border-radius: 0.25em;box-sizing: border-box;margin-bottom: 0.5em;}#sk-container-id-1 div.sk-estimator:hover {background-color: #d4ebff;}#sk-container-id-1 div.sk-parallel-item::after {content: \"\";width: 100%;border-bottom: 1px solid gray;flex-grow: 1;}#sk-container-id-1 div.sk-label:hover label.sk-toggleable__label {background-color: #d4ebff;}#sk-container-id-1 div.sk-serial::before {content: \"\";position: absolute;border-left: 1px solid gray;box-sizing: border-box;top: 0;bottom: 0;left: 50%;z-index: 0;}#sk-container-id-1 div.sk-serial {display: flex;flex-direction: column;align-items: center;background-color: white;padding-right: 0.2em;padding-left: 0.2em;position: relative;}#sk-container-id-1 div.sk-item {position: relative;z-index: 1;}#sk-container-id-1 div.sk-parallel {display: flex;align-items: stretch;justify-content: center;background-color: white;position: relative;}#sk-container-id-1 div.sk-item::before, #sk-container-id-1 div.sk-parallel-item::before {content: \"\";position: absolute;border-left: 1px solid gray;box-sizing: border-box;top: 0;bottom: 0;left: 50%;z-index: -1;}#sk-container-id-1 div.sk-parallel-item {display: flex;flex-direction: column;z-index: 1;position: relative;background-color: white;}#sk-container-id-1 div.sk-parallel-item:first-child::after {align-self: flex-end;width: 50%;}#sk-container-id-1 div.sk-parallel-item:last-child::after {align-self: flex-start;width: 50%;}#sk-container-id-1 div.sk-parallel-item:only-child::after {width: 0;}#sk-container-id-1 div.sk-dashed-wrapped {border: 1px dashed gray;margin: 0 0.4em 0.5em 0.4em;box-sizing: border-box;padding-bottom: 0.4em;background-color: white;}#sk-container-id-1 div.sk-label label {font-family: monospace;font-weight: bold;display: inline-block;line-height: 1.2em;}#sk-container-id-1 div.sk-label-container {text-align: center;}#sk-container-id-1 div.sk-container {/* jupyter's `normalize.less` sets `[hidden] { display: none; }` but bootstrap.min.css set `[hidden] { display: none !important; }` so we also need the `!important` here to be able to override the default hidden behavior on the sphinx rendered scikit-learn.org. See: https://github.com/scikit-learn/scikit-learn/issues/21755 */display: inline-block !important;position: relative;}#sk-container-id-1 div.sk-text-repr-fallback {display: none;}</style><div id=\"sk-container-id-1\" class=\"sk-top-container\"><div class=\"sk-text-repr-fallback\"><pre>XGBClassifier(base_score=None, booster=None, callbacks=None,\n",
       "              colsample_bylevel=None, colsample_bynode=None,\n",
       "              colsample_bytree=None, device=None, early_stopping_rounds=None,\n",
       "              enable_categorical=False, eval_metric=None, feature_types=None,\n",
       "              gamma=None, grow_policy=None, importance_type=None,\n",
       "              interaction_constraints=None, learning_rate=0.1, max_bin=None,\n",
       "              max_cat_threshold=None, max_cat_to_onehot=None,\n",
       "              max_delta_step=None, max_depth=5, max_leaves=None,\n",
       "              min_child_weight=None, missing=nan, monotone_constraints=None,\n",
       "              multi_strategy=None, n_estimators=100, n_jobs=None,\n",
       "              num_parallel_tree=None, random_state=42, ...)</pre><b>In a Jupyter environment, please rerun this cell to show the HTML representation or trust the notebook. <br />On GitHub, the HTML representation is unable to render, please try loading this page with nbviewer.org.</b></div><div class=\"sk-container\" hidden><div class=\"sk-item\"><div class=\"sk-estimator sk-toggleable\"><input class=\"sk-toggleable__control sk-hidden--visually\" id=\"sk-estimator-id-1\" type=\"checkbox\" checked><label for=\"sk-estimator-id-1\" class=\"sk-toggleable__label sk-toggleable__label-arrow\">XGBClassifier</label><div class=\"sk-toggleable__content\"><pre>XGBClassifier(base_score=None, booster=None, callbacks=None,\n",
       "              colsample_bylevel=None, colsample_bynode=None,\n",
       "              colsample_bytree=None, device=None, early_stopping_rounds=None,\n",
       "              enable_categorical=False, eval_metric=None, feature_types=None,\n",
       "              gamma=None, grow_policy=None, importance_type=None,\n",
       "              interaction_constraints=None, learning_rate=0.1, max_bin=None,\n",
       "              max_cat_threshold=None, max_cat_to_onehot=None,\n",
       "              max_delta_step=None, max_depth=5, max_leaves=None,\n",
       "              min_child_weight=None, missing=nan, monotone_constraints=None,\n",
       "              multi_strategy=None, n_estimators=100, n_jobs=None,\n",
       "              num_parallel_tree=None, random_state=42, ...)</pre></div></div></div></div></div>"
      ],
      "text/plain": [
       "XGBClassifier(base_score=None, booster=None, callbacks=None,\n",
       "              colsample_bylevel=None, colsample_bynode=None,\n",
       "              colsample_bytree=None, device=None, early_stopping_rounds=None,\n",
       "              enable_categorical=False, eval_metric=None, feature_types=None,\n",
       "              gamma=None, grow_policy=None, importance_type=None,\n",
       "              interaction_constraints=None, learning_rate=0.1, max_bin=None,\n",
       "              max_cat_threshold=None, max_cat_to_onehot=None,\n",
       "              max_delta_step=None, max_depth=5, max_leaves=None,\n",
       "              min_child_weight=None, missing=nan, monotone_constraints=None,\n",
       "              multi_strategy=None, n_estimators=100, n_jobs=None,\n",
       "              num_parallel_tree=None, random_state=42, ...)"
      ]
     },
     "execution_count": 21,
     "metadata": {},
     "output_type": "execute_result"
    }
   ],
   "source": [
    "model = XGBClassifier(\n",
    "    n_estimators=100,    \n",
    "    learning_rate=0.1,   \n",
    "    max_depth=5,         \n",
    "    random_state=42\n",
    ")\n",
    "\n",
    "model.fit(X_train_encoded,y_train_encoded)"
   ]
  },
  {
   "cell_type": "code",
   "execution_count": null,
   "id": "01b8ae43",
   "metadata": {
    "execution": {
     "iopub.execute_input": "2025-04-06T03:26:14.885533Z",
     "iopub.status.busy": "2025-04-06T03:26:14.884974Z",
     "iopub.status.idle": "2025-04-06T03:26:15.440000Z",
     "shell.execute_reply": "2025-04-06T03:26:15.439033Z"
    },
    "papermill": {
     "duration": 0.56747,
     "end_time": "2025-04-06T03:26:15.441921",
     "exception": false,
     "start_time": "2025-04-06T03:26:14.874451",
     "status": "completed"
    },
    "tags": []
   },
   "outputs": [],
   "source": [
    "y_val_pred = model.predict(X_val_encoded)"
   ]
  },
  {
   "cell_type": "code",
   "execution_count": null,
   "id": "8da3ba67",
   "metadata": {
    "execution": {
     "iopub.execute_input": "2025-04-06T03:26:15.460350Z",
     "iopub.status.busy": "2025-04-06T03:26:15.460004Z",
     "iopub.status.idle": "2025-04-06T03:26:15.746936Z",
     "shell.execute_reply": "2025-04-06T03:26:15.745908Z"
    },
    "papermill": {
     "duration": 0.298176,
     "end_time": "2025-04-06T03:26:15.748833",
     "exception": false,
     "start_time": "2025-04-06T03:26:15.450657",
     "status": "completed"
    },
    "tags": []
   },
   "outputs": [
    {
     "data": {
      "text/plain": [
       "0.9579167148263661"
      ]
     },
     "execution_count": 23,
     "metadata": {},
     "output_type": "execute_result"
    }
   ],
   "source": [
    "matthews_corrcoef(y_val_encoded, y_val_pred)"
   ]
  },
  {
   "cell_type": "code",
   "execution_count": null,
   "id": "c935daa3",
   "metadata": {
    "execution": {
     "iopub.execute_input": "2025-04-06T03:26:15.768023Z",
     "iopub.status.busy": "2025-04-06T03:26:15.767652Z",
     "iopub.status.idle": "2025-04-06T03:26:16.074213Z",
     "shell.execute_reply": "2025-04-06T03:26:16.073161Z"
    },
    "papermill": {
     "duration": 0.318434,
     "end_time": "2025-04-06T03:26:16.076313",
     "exception": false,
     "start_time": "2025-04-06T03:26:15.757879",
     "status": "completed"
    },
    "tags": []
   },
   "outputs": [],
   "source": [
    "X_test = test_df.copy()"
   ]
  },
  {
   "cell_type": "code",
   "execution_count": null,
   "id": "70df45d6",
   "metadata": {
    "execution": {
     "iopub.execute_input": "2025-04-06T03:26:16.095389Z",
     "iopub.status.busy": "2025-04-06T03:26:16.095032Z",
     "iopub.status.idle": "2025-04-06T03:26:20.287798Z",
     "shell.execute_reply": "2025-04-06T03:26:20.286672Z"
    },
    "papermill": {
     "duration": 4.204372,
     "end_time": "2025-04-06T03:26:20.289727",
     "exception": false,
     "start_time": "2025-04-06T03:26:16.085355",
     "status": "completed"
    },
    "tags": []
   },
   "outputs": [],
   "source": [
    "X_test[categorical_cols] = X_test[categorical_cols].fillna('unknown')\n",
    "for col in numerical_cols:\n",
    "     mode_value = X_test[col].mode()[0]\n",
    "     X_test[col] = X_test[col].fillna(mode_value)"
   ]
  },
  {
   "cell_type": "code",
   "execution_count": null,
   "id": "75e76c66",
   "metadata": {
    "execution": {
     "iopub.execute_input": "2025-04-06T03:26:20.309376Z",
     "iopub.status.busy": "2025-04-06T03:26:20.309033Z",
     "iopub.status.idle": "2025-04-06T03:26:22.008177Z",
     "shell.execute_reply": "2025-04-06T03:26:22.006898Z"
    },
    "papermill": {
     "duration": 1.711296,
     "end_time": "2025-04-06T03:26:22.010278",
     "exception": false,
     "start_time": "2025-04-06T03:26:20.298982",
     "status": "completed"
    },
    "tags": []
   },
   "outputs": [
    {
     "data": {
      "text/plain": [
       "cap-diameter            0\n",
       "cap-shape               0\n",
       "cap-surface             0\n",
       "cap-color               0\n",
       "does-bruise-or-bleed    0\n",
       "gill-attachment         0\n",
       "gill-spacing            0\n",
       "gill-color              0\n",
       "stem-height             0\n",
       "stem-width              0\n",
       "stem-root               0\n",
       "stem-surface            0\n",
       "stem-color              0\n",
       "veil-type               0\n",
       "veil-color              0\n",
       "has-ring                0\n",
       "ring-type               0\n",
       "spore-print-color       0\n",
       "habitat                 0\n",
       "season                  0\n",
       "dtype: int64"
      ]
     },
     "execution_count": 26,
     "metadata": {},
     "output_type": "execute_result"
    }
   ],
   "source": [
    "X_test.isnull().sum()"
   ]
  },
  {
   "cell_type": "code",
   "execution_count": null,
   "id": "aa211c23",
   "metadata": {
    "execution": {
     "iopub.execute_input": "2025-04-06T03:26:22.029897Z",
     "iopub.status.busy": "2025-04-06T03:26:22.029490Z",
     "iopub.status.idle": "2025-04-06T03:26:39.008145Z",
     "shell.execute_reply": "2025-04-06T03:26:39.006957Z"
    },
    "papermill": {
     "duration": 16.990795,
     "end_time": "2025-04-06T03:26:39.010113",
     "exception": false,
     "start_time": "2025-04-06T03:26:22.019318",
     "status": "completed"
    },
    "tags": []
   },
   "outputs": [],
   "source": [
    "X_test_cat_encoded = encoder.transform(X_test[categorical_cols])\n",
    "X_test_encoded = X_test.copy()\n",
    "X_test_encoded[categorical_cols] = X_test_cat_encoded "
   ]
  },
  {
   "cell_type": "code",
   "execution_count": null,
   "id": "613c0728",
   "metadata": {
    "execution": {
     "iopub.execute_input": "2025-04-06T03:26:39.029616Z",
     "iopub.status.busy": "2025-04-06T03:26:39.029198Z",
     "iopub.status.idle": "2025-04-06T03:26:39.054802Z",
     "shell.execute_reply": "2025-04-06T03:26:39.053506Z"
    },
    "papermill": {
     "duration": 0.036994,
     "end_time": "2025-04-06T03:26:39.056420",
     "exception": false,
     "start_time": "2025-04-06T03:26:39.019426",
     "status": "completed"
    },
    "tags": []
   },
   "outputs": [
    {
     "data": {
      "text/html": [
       "<div>\n",
       "<style scoped>\n",
       "    .dataframe tbody tr th:only-of-type {\n",
       "        vertical-align: middle;\n",
       "    }\n",
       "\n",
       "    .dataframe tbody tr th {\n",
       "        vertical-align: top;\n",
       "    }\n",
       "\n",
       "    .dataframe thead th {\n",
       "        text-align: right;\n",
       "    }\n",
       "</style>\n",
       "<table border=\"1\" class=\"dataframe\">\n",
       "  <thead>\n",
       "    <tr style=\"text-align: right;\">\n",
       "      <th></th>\n",
       "      <th>cap-diameter</th>\n",
       "      <th>cap-shape</th>\n",
       "      <th>cap-surface</th>\n",
       "      <th>cap-color</th>\n",
       "      <th>does-bruise-or-bleed</th>\n",
       "      <th>gill-attachment</th>\n",
       "      <th>gill-spacing</th>\n",
       "      <th>gill-color</th>\n",
       "      <th>stem-height</th>\n",
       "      <th>stem-width</th>\n",
       "      <th>stem-root</th>\n",
       "      <th>stem-surface</th>\n",
       "      <th>stem-color</th>\n",
       "      <th>veil-type</th>\n",
       "      <th>veil-color</th>\n",
       "      <th>has-ring</th>\n",
       "      <th>ring-type</th>\n",
       "      <th>spore-print-color</th>\n",
       "      <th>habitat</th>\n",
       "      <th>season</th>\n",
       "    </tr>\n",
       "    <tr>\n",
       "      <th>id</th>\n",
       "      <th></th>\n",
       "      <th></th>\n",
       "      <th></th>\n",
       "      <th></th>\n",
       "      <th></th>\n",
       "      <th></th>\n",
       "      <th></th>\n",
       "      <th></th>\n",
       "      <th></th>\n",
       "      <th></th>\n",
       "      <th></th>\n",
       "      <th></th>\n",
       "      <th></th>\n",
       "      <th></th>\n",
       "      <th></th>\n",
       "      <th></th>\n",
       "      <th></th>\n",
       "      <th></th>\n",
       "      <th></th>\n",
       "      <th></th>\n",
       "    </tr>\n",
       "  </thead>\n",
       "  <tbody>\n",
       "    <tr>\n",
       "      <th>3116945</th>\n",
       "      <td>8.64</td>\n",
       "      <td>63.0</td>\n",
       "      <td>69.0</td>\n",
       "      <td>52.0</td>\n",
       "      <td>19.0</td>\n",
       "      <td>66.0</td>\n",
       "      <td>40.0</td>\n",
       "      <td>55.0</td>\n",
       "      <td>11.13</td>\n",
       "      <td>17.12</td>\n",
       "      <td>13.0</td>\n",
       "      <td>49.0</td>\n",
       "      <td>51.0</td>\n",
       "      <td>19.0</td>\n",
       "      <td>21.0</td>\n",
       "      <td>16.0</td>\n",
       "      <td>17.0</td>\n",
       "      <td>26.0</td>\n",
       "      <td>23.0</td>\n",
       "      <td>0.0</td>\n",
       "    </tr>\n",
       "    <tr>\n",
       "      <th>3116946</th>\n",
       "      <td>6.90</td>\n",
       "      <td>55.0</td>\n",
       "      <td>67.0</td>\n",
       "      <td>53.0</td>\n",
       "      <td>8.0</td>\n",
       "      <td>66.0</td>\n",
       "      <td>24.0</td>\n",
       "      <td>57.0</td>\n",
       "      <td>1.27</td>\n",
       "      <td>10.75</td>\n",
       "      <td>32.0</td>\n",
       "      <td>49.0</td>\n",
       "      <td>41.0</td>\n",
       "      <td>20.0</td>\n",
       "      <td>20.0</td>\n",
       "      <td>4.0</td>\n",
       "      <td>16.0</td>\n",
       "      <td>26.0</td>\n",
       "      <td>23.0</td>\n",
       "      <td>0.0</td>\n",
       "    </tr>\n",
       "    <tr>\n",
       "      <th>3116947</th>\n",
       "      <td>2.00</td>\n",
       "      <td>41.0</td>\n",
       "      <td>46.0</td>\n",
       "      <td>52.0</td>\n",
       "      <td>8.0</td>\n",
       "      <td>66.0</td>\n",
       "      <td>24.0</td>\n",
       "      <td>41.0</td>\n",
       "      <td>6.18</td>\n",
       "      <td>3.14</td>\n",
       "      <td>32.0</td>\n",
       "      <td>49.0</td>\n",
       "      <td>41.0</td>\n",
       "      <td>20.0</td>\n",
       "      <td>20.0</td>\n",
       "      <td>4.0</td>\n",
       "      <td>16.0</td>\n",
       "      <td>26.0</td>\n",
       "      <td>23.0</td>\n",
       "      <td>1.0</td>\n",
       "    </tr>\n",
       "    <tr>\n",
       "      <th>3116948</th>\n",
       "      <td>3.47</td>\n",
       "      <td>63.0</td>\n",
       "      <td>67.0</td>\n",
       "      <td>52.0</td>\n",
       "      <td>8.0</td>\n",
       "      <td>62.0</td>\n",
       "      <td>24.0</td>\n",
       "      <td>41.0</td>\n",
       "      <td>4.98</td>\n",
       "      <td>8.51</td>\n",
       "      <td>32.0</td>\n",
       "      <td>49.0</td>\n",
       "      <td>51.0</td>\n",
       "      <td>20.0</td>\n",
       "      <td>13.0</td>\n",
       "      <td>16.0</td>\n",
       "      <td>38.0</td>\n",
       "      <td>26.0</td>\n",
       "      <td>23.0</td>\n",
       "      <td>2.0</td>\n",
       "    </tr>\n",
       "    <tr>\n",
       "      <th>3116949</th>\n",
       "      <td>6.17</td>\n",
       "      <td>63.0</td>\n",
       "      <td>47.0</td>\n",
       "      <td>65.0</td>\n",
       "      <td>8.0</td>\n",
       "      <td>58.0</td>\n",
       "      <td>40.0</td>\n",
       "      <td>57.0</td>\n",
       "      <td>6.73</td>\n",
       "      <td>13.70</td>\n",
       "      <td>32.0</td>\n",
       "      <td>49.0</td>\n",
       "      <td>53.0</td>\n",
       "      <td>20.0</td>\n",
       "      <td>22.0</td>\n",
       "      <td>16.0</td>\n",
       "      <td>34.0</td>\n",
       "      <td>26.0</td>\n",
       "      <td>23.0</td>\n",
       "      <td>2.0</td>\n",
       "    </tr>\n",
       "  </tbody>\n",
       "</table>\n",
       "</div>"
      ],
      "text/plain": [
       "         cap-diameter  cap-shape  cap-surface  cap-color  \\\n",
       "id                                                         \n",
       "3116945          8.64       63.0         69.0       52.0   \n",
       "3116946          6.90       55.0         67.0       53.0   \n",
       "3116947          2.00       41.0         46.0       52.0   \n",
       "3116948          3.47       63.0         67.0       52.0   \n",
       "3116949          6.17       63.0         47.0       65.0   \n",
       "\n",
       "         does-bruise-or-bleed  gill-attachment  gill-spacing  gill-color  \\\n",
       "id                                                                         \n",
       "3116945                  19.0             66.0          40.0        55.0   \n",
       "3116946                   8.0             66.0          24.0        57.0   \n",
       "3116947                   8.0             66.0          24.0        41.0   \n",
       "3116948                   8.0             62.0          24.0        41.0   \n",
       "3116949                   8.0             58.0          40.0        57.0   \n",
       "\n",
       "         stem-height  stem-width  stem-root  stem-surface  stem-color  \\\n",
       "id                                                                      \n",
       "3116945        11.13       17.12       13.0          49.0        51.0   \n",
       "3116946         1.27       10.75       32.0          49.0        41.0   \n",
       "3116947         6.18        3.14       32.0          49.0        41.0   \n",
       "3116948         4.98        8.51       32.0          49.0        51.0   \n",
       "3116949         6.73       13.70       32.0          49.0        53.0   \n",
       "\n",
       "         veil-type  veil-color  has-ring  ring-type  spore-print-color  \\\n",
       "id                                                                       \n",
       "3116945       19.0        21.0      16.0       17.0               26.0   \n",
       "3116946       20.0        20.0       4.0       16.0               26.0   \n",
       "3116947       20.0        20.0       4.0       16.0               26.0   \n",
       "3116948       20.0        13.0      16.0       38.0               26.0   \n",
       "3116949       20.0        22.0      16.0       34.0               26.0   \n",
       "\n",
       "         habitat  season  \n",
       "id                        \n",
       "3116945     23.0     0.0  \n",
       "3116946     23.0     0.0  \n",
       "3116947     23.0     1.0  \n",
       "3116948     23.0     2.0  \n",
       "3116949     23.0     2.0  "
      ]
     },
     "execution_count": 28,
     "metadata": {},
     "output_type": "execute_result"
    }
   ],
   "source": [
    "X_test_encoded.head()"
   ]
  },
  {
   "cell_type": "code",
   "execution_count": null,
   "id": "4c6ea94f",
   "metadata": {
    "execution": {
     "iopub.execute_input": "2025-04-06T03:26:39.075945Z",
     "iopub.status.busy": "2025-04-06T03:26:39.075586Z",
     "iopub.status.idle": "2025-04-06T03:26:40.891089Z",
     "shell.execute_reply": "2025-04-06T03:26:40.890020Z"
    },
    "papermill": {
     "duration": 1.827679,
     "end_time": "2025-04-06T03:26:40.893269",
     "exception": false,
     "start_time": "2025-04-06T03:26:39.065590",
     "status": "completed"
    },
    "tags": []
   },
   "outputs": [
    {
     "data": {
      "text/plain": [
       "array([0, 1, 1, ..., 1, 0, 0])"
      ]
     },
     "execution_count": 29,
     "metadata": {},
     "output_type": "execute_result"
    }
   ],
   "source": [
    "result = model.predict(X_test_encoded)\n",
    "result"
   ]
  },
  {
   "cell_type": "code",
   "execution_count": null,
   "id": "4801d044",
   "metadata": {
    "execution": {
     "iopub.execute_input": "2025-04-06T03:26:40.914014Z",
     "iopub.status.busy": "2025-04-06T03:26:40.913641Z",
     "iopub.status.idle": "2025-04-06T03:26:40.994313Z",
     "shell.execute_reply": "2025-04-06T03:26:40.993225Z"
    },
    "papermill": {
     "duration": 0.092809,
     "end_time": "2025-04-06T03:26:40.996320",
     "exception": false,
     "start_time": "2025-04-06T03:26:40.903511",
     "status": "completed"
    },
    "tags": []
   },
   "outputs": [
    {
     "data": {
      "text/plain": [
       "array(['e', 'p', 'p', ..., 'p', 'e', 'e'], dtype=object)"
      ]
     },
     "execution_count": 30,
     "metadata": {},
     "output_type": "execute_result"
    }
   ],
   "source": [
    "decoded_result = le.inverse_transform(result)\n",
    "decoded_result"
   ]
  },
  {
   "cell_type": "code",
   "execution_count": null,
   "id": "717762c5",
   "metadata": {
    "execution": {
     "iopub.execute_input": "2025-04-06T03:26:41.016350Z",
     "iopub.status.busy": "2025-04-06T03:26:41.015979Z",
     "iopub.status.idle": "2025-04-06T03:26:41.026148Z",
     "shell.execute_reply": "2025-04-06T03:26:41.024824Z"
    },
    "papermill": {
     "duration": 0.022434,
     "end_time": "2025-04-06T03:26:41.028276",
     "exception": false,
     "start_time": "2025-04-06T03:26:41.005842",
     "status": "completed"
    },
    "tags": []
   },
   "outputs": [
    {
     "name": "stdout",
     "output_type": "stream",
     "text": [
      "<class 'pandas.core.frame.DataFrame'>\n",
      "RangeIndex: 2077964 entries, 0 to 2077963\n",
      "Data columns (total 2 columns):\n",
      " #   Column  Dtype \n",
      "---  ------  ----- \n",
      " 0   id      int64 \n",
      " 1   class   object\n",
      "dtypes: int64(1), object(1)\n",
      "memory usage: 31.7+ MB\n"
     ]
    }
   ],
   "source": [
    "sample_df.info()"
   ]
  },
  {
   "cell_type": "code",
   "execution_count": null,
   "id": "1c64c7d1",
   "metadata": {
    "execution": {
     "iopub.execute_input": "2025-04-06T03:26:41.049233Z",
     "iopub.status.busy": "2025-04-06T03:26:41.048893Z",
     "iopub.status.idle": "2025-04-06T03:26:41.075528Z",
     "shell.execute_reply": "2025-04-06T03:26:41.074448Z"
    },
    "papermill": {
     "duration": 0.0393,
     "end_time": "2025-04-06T03:26:41.077484",
     "exception": false,
     "start_time": "2025-04-06T03:26:41.038184",
     "status": "completed"
    },
    "tags": []
   },
   "outputs": [],
   "source": [
    "sample_df['class'] = decoded_result"
   ]
  },
  {
   "cell_type": "code",
   "execution_count": null,
   "id": "d900b591",
   "metadata": {
    "execution": {
     "iopub.execute_input": "2025-04-06T03:26:41.097449Z",
     "iopub.status.busy": "2025-04-06T03:26:41.097085Z",
     "iopub.status.idle": "2025-04-06T03:26:42.512969Z",
     "shell.execute_reply": "2025-04-06T03:26:42.511881Z"
    },
    "papermill": {
     "duration": 1.428359,
     "end_time": "2025-04-06T03:26:42.515269",
     "exception": false,
     "start_time": "2025-04-06T03:26:41.086910",
     "status": "completed"
    },
    "tags": []
   },
   "outputs": [],
   "source": [
    "sample_df.to_csv('submission.csv',index=False)"
   ]
  }
 ],
 "metadata": {
  "kaggle": {
   "accelerator": "none",
   "dataSources": [
    {
     "databundleVersionId": 9045607,
     "sourceId": 76727,
     "sourceType": "competition"
    }
   ],
   "dockerImageVersionId": 30918,
   "isGpuEnabled": false,
   "isInternetEnabled": true,
   "language": "python",
   "sourceType": "notebook"
  },
  "kernelspec": {
   "display_name": "ai",
   "language": "python",
   "name": "python3"
  },
  "language_info": {
   "codemirror_mode": {
    "name": "ipython",
    "version": 3
   },
   "file_extension": ".py",
   "mimetype": "text/x-python",
   "name": "python",
   "nbconvert_exporter": "python",
   "pygments_lexer": "ipython3",
   "version": "3.13.2"
  },
  "papermill": {
   "default_parameters": {},
   "duration": 112.648859,
   "end_time": "2025-04-06T03:26:43.847918",
   "environment_variables": {},
   "exception": null,
   "input_path": "__notebook__.ipynb",
   "output_path": "__notebook__.ipynb",
   "parameters": {},
   "start_time": "2025-04-06T03:24:51.199059",
   "version": "2.6.0"
  }
 },
 "nbformat": 4,
 "nbformat_minor": 5
}
